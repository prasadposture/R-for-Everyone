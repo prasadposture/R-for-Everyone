{
 "cells": [
  {
   "cell_type": "markdown",
   "id": "c066dfd7",
   "metadata": {},
   "source": [
    "# R factors"
   ]
  },
  {
   "cell_type": "markdown",
   "id": "193b1223",
   "metadata": {},
   "source": [
    "### Factors in R\n",
    "Factors are the data objects which are used to categorize the data and store it\n",
    "as levels. They can store both strings and integers. Factors are created using the `factor()`\n",
    "function by taking a vector as input."
   ]
  },
  {
   "cell_type": "code",
   "execution_count": 1,
   "id": "d132666b",
   "metadata": {},
   "outputs": [
    {
     "data": {
      "text/html": [
       "FALSE"
      ],
      "text/latex": [
       "FALSE"
      ],
      "text/markdown": [
       "FALSE"
      ],
      "text/plain": [
       "[1] FALSE"
      ]
     },
     "metadata": {},
     "output_type": "display_data"
    }
   ],
   "source": [
    "#Example\n",
    "x=c('A','B','C','D','A','B','0','1','2')\n",
    "is.factor(x) #checking if x is a factor"
   ]
  },
  {
   "cell_type": "code",
   "execution_count": 2,
   "id": "472d809f",
   "metadata": {},
   "outputs": [
    {
     "data": {
      "text/html": [
       "<ol class=list-inline>\n",
       "\t<li>A</li>\n",
       "\t<li>B</li>\n",
       "\t<li>C</li>\n",
       "\t<li>D</li>\n",
       "\t<li>A</li>\n",
       "\t<li>B</li>\n",
       "\t<li>0</li>\n",
       "\t<li>1</li>\n",
       "\t<li>2</li>\n",
       "</ol>\n",
       "\n",
       "<details>\n",
       "\t<summary style=display:list-item;cursor:pointer>\n",
       "\t\t<strong>Levels</strong>:\n",
       "\t</summary>\n",
       "\t<ol class=list-inline>\n",
       "\t\t<li>'0'</li>\n",
       "\t\t<li>'1'</li>\n",
       "\t\t<li>'2'</li>\n",
       "\t\t<li>'A'</li>\n",
       "\t\t<li>'B'</li>\n",
       "\t\t<li>'C'</li>\n",
       "\t\t<li>'D'</li>\n",
       "\t</ol>\n",
       "</details>"
      ],
      "text/latex": [
       "\\begin{enumerate*}\n",
       "\\item A\n",
       "\\item B\n",
       "\\item C\n",
       "\\item D\n",
       "\\item A\n",
       "\\item B\n",
       "\\item 0\n",
       "\\item 1\n",
       "\\item 2\n",
       "\\end{enumerate*}\n",
       "\n",
       "\\emph{Levels}: \\begin{enumerate*}\n",
       "\\item '0'\n",
       "\\item '1'\n",
       "\\item '2'\n",
       "\\item 'A'\n",
       "\\item 'B'\n",
       "\\item 'C'\n",
       "\\item 'D'\n",
       "\\end{enumerate*}\n"
      ],
      "text/markdown": [
       "1. A\n",
       "2. B\n",
       "3. C\n",
       "4. D\n",
       "5. A\n",
       "6. B\n",
       "7. 0\n",
       "8. 1\n",
       "9. 2\n",
       "\n",
       "\n",
       "\n",
       "**Levels**: 1. '0'\n",
       "2. '1'\n",
       "3. '2'\n",
       "4. 'A'\n",
       "5. 'B'\n",
       "6. 'C'\n",
       "7. 'D'\n",
       "\n",
       "\n"
      ],
      "text/plain": [
       "[1] A B C D A B 0 1 2\n",
       "Levels: 0 1 2 A B C D"
      ]
     },
     "metadata": {},
     "output_type": "display_data"
    }
   ],
   "source": [
    "y=factor(x)\n",
    "y"
   ]
  },
  {
   "cell_type": "code",
   "execution_count": 3,
   "id": "c9a1cc77",
   "metadata": {},
   "outputs": [
    {
     "data": {
      "text/html": [
       "TRUE"
      ],
      "text/latex": [
       "TRUE"
      ],
      "text/markdown": [
       "TRUE"
      ],
      "text/plain": [
       "[1] TRUE"
      ]
     },
     "metadata": {},
     "output_type": "display_data"
    }
   ],
   "source": [
    "#checking if y is a factor\n",
    "is.factor(y)"
   ]
  },
  {
   "cell_type": "markdown",
   "id": "d92f78b3",
   "metadata": {},
   "source": [
    "### Changing the order of the levels in a factor  \n",
    "The order of the levels in a factor can be changed by applying the `factor()` function\n",
    "again with new order of the levels."
   ]
  },
  {
   "cell_type": "code",
   "execution_count": 4,
   "id": "09cd7c76",
   "metadata": {},
   "outputs": [
    {
     "data": {
      "text/html": [
       "<ol class=list-inline>\n",
       "\t<li>A</li>\n",
       "\t<li>B</li>\n",
       "\t<li>C</li>\n",
       "\t<li>D</li>\n",
       "\t<li>A</li>\n",
       "\t<li>B</li>\n",
       "\t<li>0</li>\n",
       "\t<li>1</li>\n",
       "\t<li>2</li>\n",
       "</ol>\n",
       "\n",
       "<details>\n",
       "\t<summary style=display:list-item;cursor:pointer>\n",
       "\t\t<strong>Levels</strong>:\n",
       "\t</summary>\n",
       "\t<ol class=list-inline>\n",
       "\t\t<li>'A'</li>\n",
       "\t\t<li>'B'</li>\n",
       "\t\t<li>'C'</li>\n",
       "\t\t<li>'D'</li>\n",
       "\t\t<li>'0'</li>\n",
       "\t\t<li>'1'</li>\n",
       "\t\t<li>'2'</li>\n",
       "\t</ol>\n",
       "</details>"
      ],
      "text/latex": [
       "\\begin{enumerate*}\n",
       "\\item A\n",
       "\\item B\n",
       "\\item C\n",
       "\\item D\n",
       "\\item A\n",
       "\\item B\n",
       "\\item 0\n",
       "\\item 1\n",
       "\\item 2\n",
       "\\end{enumerate*}\n",
       "\n",
       "\\emph{Levels}: \\begin{enumerate*}\n",
       "\\item 'A'\n",
       "\\item 'B'\n",
       "\\item 'C'\n",
       "\\item 'D'\n",
       "\\item '0'\n",
       "\\item '1'\n",
       "\\item '2'\n",
       "\\end{enumerate*}\n"
      ],
      "text/markdown": [
       "1. A\n",
       "2. B\n",
       "3. C\n",
       "4. D\n",
       "5. A\n",
       "6. B\n",
       "7. 0\n",
       "8. 1\n",
       "9. 2\n",
       "\n",
       "\n",
       "\n",
       "**Levels**: 1. 'A'\n",
       "2. 'B'\n",
       "3. 'C'\n",
       "4. 'D'\n",
       "5. '0'\n",
       "6. '1'\n",
       "7. '2'\n",
       "\n",
       "\n"
      ],
      "text/plain": [
       "[1] A B C D A B 0 1 2\n",
       "Levels: A B C D 0 1 2"
      ]
     },
     "metadata": {},
     "output_type": "display_data"
    }
   ],
   "source": [
    "factor(y,levels = c('A','B','C','D','0','1','2'))"
   ]
  },
  {
   "cell_type": "markdown",
   "id": "b5987b62",
   "metadata": {},
   "source": [
    "# R Data Frame"
   ]
  },
  {
   "cell_type": "markdown",
   "id": "a271c919",
   "metadata": {},
   "source": [
    "###  Data frame in R  \n",
    "A data frame is a table or a two-dimensional array-like structure in which each\n",
    "column contains values of one variable and each row contains one set of values from each\n",
    "column. It is created using the function `data.frame()`. <br> \n",
    "Following are the characteristics of a\n",
    "data frame.\n",
    "1. The column names should be non-empty.\n",
    "2. The row names should be unique.\n",
    "3. The data stored in a data frame can be of numeric, factor or character type.\n",
    "4. Each column should contain same number of data items."
   ]
  },
  {
   "cell_type": "code",
   "execution_count": 5,
   "id": "35dbecdb",
   "metadata": {},
   "outputs": [],
   "source": [
    "#Create a dataframe of employee data\n",
    "employee.data=data.frame(emp_id=c(1:3),\n",
    "                    emp_name=c('Amar','Akbar','Anthony'),\n",
    "                    salary=c(10000,200000,300000),\n",
    "                    start_date=as.Date(c('2012-01-01','2013-09-23','2014-11-15')),\n",
    "                    stringsAsFactors=FALSE)"
   ]
  },
  {
   "cell_type": "code",
   "execution_count": 6,
   "id": "53776140",
   "metadata": {},
   "outputs": [
    {
     "data": {
      "text/html": [
       "<table>\n",
       "<thead><tr><th scope=col>emp_id</th><th scope=col>emp_name</th><th scope=col>salary</th><th scope=col>start_date</th></tr></thead>\n",
       "<tbody>\n",
       "\t<tr><td>1         </td><td>Amar      </td><td>1e+04     </td><td>2012-01-01</td></tr>\n",
       "\t<tr><td>2         </td><td>Akbar     </td><td>2e+05     </td><td>2013-09-23</td></tr>\n",
       "\t<tr><td>3         </td><td>Anthony   </td><td>3e+05     </td><td>2014-11-15</td></tr>\n",
       "</tbody>\n",
       "</table>\n"
      ],
      "text/latex": [
       "\\begin{tabular}{r|llll}\n",
       " emp\\_id & emp\\_name & salary & start\\_date\\\\\n",
       "\\hline\n",
       "\t 1          & Amar       & 1e+04      & 2012-01-01\\\\\n",
       "\t 2          & Akbar      & 2e+05      & 2013-09-23\\\\\n",
       "\t 3          & Anthony    & 3e+05      & 2014-11-15\\\\\n",
       "\\end{tabular}\n"
      ],
      "text/markdown": [
       "\n",
       "| emp_id | emp_name | salary | start_date |\n",
       "|---|---|---|---|\n",
       "| 1          | Amar       | 1e+04      | 2012-01-01 |\n",
       "| 2          | Akbar      | 2e+05      | 2013-09-23 |\n",
       "| 3          | Anthony    | 3e+05      | 2014-11-15 |\n",
       "\n"
      ],
      "text/plain": [
       "  emp_id emp_name salary start_date\n",
       "1 1      Amar     1e+04  2012-01-01\n",
       "2 2      Akbar    2e+05  2013-09-23\n",
       "3 3      Anthony  3e+05  2014-11-15"
      ]
     },
     "metadata": {},
     "output_type": "display_data"
    }
   ],
   "source": [
    "#Print the data frame\n",
    "employee.data"
   ]
  },
  {
   "cell_type": "code",
   "execution_count": 7,
   "id": "1e2af966",
   "metadata": {},
   "outputs": [],
   "source": [
    "##Create a dataframe of employee data setting stringAsFactor=TRUE\n",
    "employee.data=data.frame(emp_id=c(1:3),\n",
    "                    emp_name=c('Amar','Akbar','Anthony'),\n",
    "                    salary=c(10000,200000,300000),\n",
    "                    start_date=as.Date(c('2012-01-01','2013-09-23','2014-11-15')),\n",
    "                    stringsAsFactors=TRUE)"
   ]
  },
  {
   "cell_type": "code",
   "execution_count": 8,
   "id": "d17e32d6",
   "metadata": {},
   "outputs": [
    {
     "data": {
      "text/html": [
       "<table>\n",
       "<thead><tr><th scope=col>emp_id</th><th scope=col>emp_name</th><th scope=col>salary</th><th scope=col>start_date</th></tr></thead>\n",
       "<tbody>\n",
       "\t<tr><td>1         </td><td>Amar      </td><td>1e+04     </td><td>2012-01-01</td></tr>\n",
       "\t<tr><td>2         </td><td>Akbar     </td><td>2e+05     </td><td>2013-09-23</td></tr>\n",
       "\t<tr><td>3         </td><td>Anthony   </td><td>3e+05     </td><td>2014-11-15</td></tr>\n",
       "</tbody>\n",
       "</table>\n"
      ],
      "text/latex": [
       "\\begin{tabular}{r|llll}\n",
       " emp\\_id & emp\\_name & salary & start\\_date\\\\\n",
       "\\hline\n",
       "\t 1          & Amar       & 1e+04      & 2012-01-01\\\\\n",
       "\t 2          & Akbar      & 2e+05      & 2013-09-23\\\\\n",
       "\t 3          & Anthony    & 3e+05      & 2014-11-15\\\\\n",
       "\\end{tabular}\n"
      ],
      "text/markdown": [
       "\n",
       "| emp_id | emp_name | salary | start_date |\n",
       "|---|---|---|---|\n",
       "| 1          | Amar       | 1e+04      | 2012-01-01 |\n",
       "| 2          | Akbar      | 2e+05      | 2013-09-23 |\n",
       "| 3          | Anthony    | 3e+05      | 2014-11-15 |\n",
       "\n"
      ],
      "text/plain": [
       "  emp_id emp_name salary start_date\n",
       "1 1      Amar     1e+04  2012-01-01\n",
       "2 2      Akbar    2e+05  2013-09-23\n",
       "3 3      Anthony  3e+05  2014-11-15"
      ]
     },
     "metadata": {},
     "output_type": "display_data"
    }
   ],
   "source": [
    "#Print the data frame\n",
    "employee.data"
   ]
  },
  {
   "cell_type": "markdown",
   "id": "c0dc5300",
   "metadata": {},
   "source": [
    "**Note:** The argument ‘stringsAsFactors’ is an argument to the ‘data.frame()’ function in\n",
    "R. It is a logical that indicates whether strings in a data frame should be treated as factor\n",
    "variables or as just plain strings. By default, ‘stringsAsFactors’ is set to TRUE."
   ]
  },
  {
   "cell_type": "markdown",
   "id": "349a97f9",
   "metadata": {},
   "source": [
    "### Structure of the data frame\n",
    "The structure of the data frame can be seen by using `str()` function."
   ]
  },
  {
   "cell_type": "code",
   "execution_count": 9,
   "id": "f0a5ba99",
   "metadata": {},
   "outputs": [
    {
     "name": "stdout",
     "output_type": "stream",
     "text": [
      "'data.frame':\t3 obs. of  4 variables:\n",
      " $ emp_id    : int  1 2 3\n",
      " $ emp_name  : Factor w/ 3 levels \"Akbar\",\"Amar\",..: 2 1 3\n",
      " $ salary    : num  1e+04 2e+05 3e+05\n",
      " $ start_date: Date, format: \"2012-01-01\" \"2013-09-23\" ...\n"
     ]
    }
   ],
   "source": [
    "str(employee.data)"
   ]
  },
  {
   "cell_type": "markdown",
   "id": "c0f37a78",
   "metadata": {},
   "source": [
    "### Summary of the data frame\n",
    "The statistical summary and nature of the data can be obtained by applying\n",
    "`summary()` function."
   ]
  },
  {
   "cell_type": "code",
   "execution_count": 10,
   "id": "abea9d74",
   "metadata": {},
   "outputs": [
    {
     "data": {
      "text/plain": [
       "     emp_id       emp_name     salary         start_date        \n",
       " Min.   :1.0   Akbar  :1   Min.   : 10000   Min.   :2012-01-01  \n",
       " 1st Qu.:1.5   Amar   :1   1st Qu.:105000   1st Qu.:2012-11-11  \n",
       " Median :2.0   Anthony:1   Median :200000   Median :2013-09-23  \n",
       " Mean   :2.0               Mean   :170000   Mean   :2013-07-14  \n",
       " 3rd Qu.:2.5               3rd Qu.:250000   3rd Qu.:2014-04-20  \n",
       " Max.   :3.0               Max.   :300000   Max.   :2014-11-15  "
      ]
     },
     "metadata": {},
     "output_type": "display_data"
    }
   ],
   "source": [
    "summary(employee.data)"
   ]
  },
  {
   "cell_type": "markdown",
   "id": "1ce6b37b",
   "metadata": {},
   "source": [
    "### Extracting columns from the dataframe\n",
    "Write data-frame-name.data then $ and name of column inside data.frame(). If\n",
    "more than one column separate them by comma."
   ]
  },
  {
   "cell_type": "code",
   "execution_count": 11,
   "id": "f092bc23",
   "metadata": {},
   "outputs": [
    {
     "data": {
      "text/html": [
       "<table>\n",
       "<thead><tr><th scope=col>X.employee.data.salary.</th></tr></thead>\n",
       "<tbody>\n",
       "\t<tr><td>1e+04</td></tr>\n",
       "\t<tr><td>2e+05</td></tr>\n",
       "\t<tr><td>3e+05</td></tr>\n",
       "</tbody>\n",
       "</table>\n"
      ],
      "text/latex": [
       "\\begin{tabular}{r|l}\n",
       " X.employee.data.salary.\\\\\n",
       "\\hline\n",
       "\t 1e+04\\\\\n",
       "\t 2e+05\\\\\n",
       "\t 3e+05\\\\\n",
       "\\end{tabular}\n"
      ],
      "text/markdown": [
       "\n",
       "| X.employee.data.salary. |\n",
       "|---|\n",
       "| 1e+04 |\n",
       "| 2e+05 |\n",
       "| 3e+05 |\n",
       "\n"
      ],
      "text/plain": [
       "  X.employee.data.salary.\n",
       "1 1e+04                  \n",
       "2 2e+05                  \n",
       "3 3e+05                  "
      ]
     },
     "metadata": {},
     "output_type": "display_data"
    }
   ],
   "source": [
    "#Extracting the salaries of the employees\n",
    "data.frame((employee.data$salary))"
   ]
  },
  {
   "cell_type": "markdown",
   "id": "7dae54b3",
   "metadata": {},
   "source": [
    "### Extracting rows from the data frame  \n",
    "Write data-frame-name `[i : k, ]` if you want to extract rows form i to k."
   ]
  },
  {
   "cell_type": "code",
   "execution_count": 12,
   "id": "ead730c8",
   "metadata": {},
   "outputs": [
    {
     "data": {
      "text/html": [
       "<table>\n",
       "<thead><tr><th></th><th scope=col>emp_id</th><th scope=col>emp_name</th><th scope=col>salary</th><th scope=col>start_date</th></tr></thead>\n",
       "<tbody>\n",
       "\t<tr><th scope=row>2</th><td>2         </td><td>Akbar     </td><td>2e+05     </td><td>2013-09-23</td></tr>\n",
       "\t<tr><th scope=row>3</th><td>3         </td><td>Anthony   </td><td>3e+05     </td><td>2014-11-15</td></tr>\n",
       "</tbody>\n",
       "</table>\n"
      ],
      "text/latex": [
       "\\begin{tabular}{r|llll}\n",
       "  & emp\\_id & emp\\_name & salary & start\\_date\\\\\n",
       "\\hline\n",
       "\t2 & 2          & Akbar      & 2e+05      & 2013-09-23\\\\\n",
       "\t3 & 3          & Anthony    & 3e+05      & 2014-11-15\\\\\n",
       "\\end{tabular}\n"
      ],
      "text/markdown": [
       "\n",
       "| <!--/--> | emp_id | emp_name | salary | start_date |\n",
       "|---|---|---|---|---|\n",
       "| 2 | 2          | Akbar      | 2e+05      | 2013-09-23 |\n",
       "| 3 | 3          | Anthony    | 3e+05      | 2014-11-15 |\n",
       "\n"
      ],
      "text/plain": [
       "  emp_id emp_name salary start_date\n",
       "2 2      Akbar    2e+05  2013-09-23\n",
       "3 3      Anthony  3e+05  2014-11-15"
      ]
     },
     "metadata": {},
     "output_type": "display_data"
    }
   ],
   "source": [
    "employee.data[2:3,] #don't miss the comma"
   ]
  },
  {
   "cell_type": "markdown",
   "id": "4c1c3852",
   "metadata": {},
   "source": [
    "The End"
   ]
  }
 ],
 "metadata": {
  "kernelspec": {
   "display_name": "R",
   "language": "R",
   "name": "ir"
  },
  "language_info": {
   "codemirror_mode": "r",
   "file_extension": ".r",
   "mimetype": "text/x-r-source",
   "name": "R",
   "pygments_lexer": "r",
   "version": "3.6.1"
  }
 },
 "nbformat": 4,
 "nbformat_minor": 5
}
