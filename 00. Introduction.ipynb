{
 "cells": [
  {
   "cell_type": "markdown",
   "id": "f62a5e0f",
   "metadata": {},
   "source": [
    "# Introduction\n",
    "Ross Ihaka and Robert Gentleman developed R. Before this they were using Statistical\n",
    "programming language S. In June 1995, code was made available under the free software\n",
    "foundation’s GNU, General public license (GPL) version 2. In Mid 1997 initial development\n",
    "core team was formed and in February 2000 initial version of R (Version 1.0.0) was released."
   ]
  },
  {
   "cell_type": "markdown",
   "id": "eac5ec0e",
   "metadata": {},
   "source": [
    "### What is R?\n",
    "R is a programming language and free software environment for statistical computing and graphics that is supported by the R Foundation for Statistical Computing. The\n",
    "R language is widely used among statisticians and data miners for developing statistical\n",
    "software and data analysis.\n"
   ]
  },
  {
   "cell_type": "markdown",
   "id": "21b660e1",
   "metadata": {},
   "source": [
    "### Features of R\n",
    "1. Compiler independent: R interprets the code you provide without compiling it.\n",
    "2. Performing multiple calculation with vectors: R allows to apply function to the whole vector in a single operation without need of a loop.<br>\n",
    "    Example:<br>\n",
    "        > x=1:5  will assign values 1 to 5 to vector x<br>\n",
    "        > x+2  will add 2 to each element of x  \n",
    "3. Initially R was developed to perform statistical calculation. Later R was expanded to do non-statistical task like data processing, graphical visualisation and analysis."
   ]
  },
  {
   "cell_type": "markdown",
   "id": "e0ff7a1f",
   "metadata": {},
   "source": [
    "### Benefits of using R\n",
    "1. R is an open sourced license that is anyone can download and modify code thus it is called “free as in speech”. Since one can download and use R free of charge it is also referred as “free as in beer”.  \n",
    "2. R works on all type of softwares(windows, linux, Mac) and hardwares.  \n",
    "3. It supports extensions. Thus developers can write their own software codes and distribute it in the form of add on packages.\n",
    "4. It provides an engaged community. R has an active mailing list, question and answer website, blog, social network and conferences.  \n",
    "5. It connects with other languages. Several R package link R to file system, databases and applications like C, C++, java, python, etc. Packages like foreign, Roracle, RODBC enables you to read data from SPSS, SAS, stata, oracle, etc.\n"
   ]
  },
  {
   "cell_type": "markdown",
   "id": "a3a87302",
   "metadata": {},
   "source": [
    "### Drawbacks of using R\n",
    "1. Old technology\n",
    "2. Little built-in support for dynamic/3D graphics\n",
    "3. Functionality based on consumer demand\n",
    "4. Objects generally stored in physical memory (limited by hardware)"
   ]
  },
  {
   "cell_type": "markdown",
   "id": "c2f2b652",
   "metadata": {},
   "source": [
    " **Console:** A console is the text entry and display screen"
   ]
  },
  {
   "cell_type": "markdown",
   "id": "785b7829",
   "metadata": {},
   "source": [
    "**R-Console:** An R console is a pane(Area within a window for display\n",
    "or interaction) in a window in which a user can type R commands and submit them for\n",
    "execution and viewing result"
   ]
  },
  {
   "cell_type": "markdown",
   "id": "d46e5489",
   "metadata": {},
   "source": [
    "**IDE:** An integrated development environment(IDE) is an software application that provides comprehensive facilities to programmer for software development. It consists of source code, editor, build automation tools and debugger. Example: NetBeans and\n",
    "eclipse have IDE has they contain compiler and interpreter but SharpDevelop and Lazarus\n",
    "dont"
   ]
  },
  {
   "cell_type": "markdown",
   "id": "614872d7",
   "metadata": {},
   "source": [
    "**RStudio:** Rstudio is an IDE for R. It includes console, syntax-highlighting\n",
    "editor that supports direct code execution as well as tools for plotting history, debugging and\n",
    "workplace management."
   ]
  },
  {
   "cell_type": "markdown",
   "id": "e6d610f9",
   "metadata": {},
   "source": [
    "### Features of Rstudio\n",
    "1. Code highlighting that gives different colors to keywords and variables, making it easier to read.\n",
    "1. Automatic bracket and parenthesis matching.\n",
    "1. Code completion, so you don’t have to type out all commands in full.\n",
    "1. Easy access to R Help, with some nice features for exploring functions and parameters of functions.\n",
    "1. Easy exploration of variables and values"
   ]
  },
  {
   "cell_type": "markdown",
   "id": "6123969f",
   "metadata": {},
   "source": [
    "### Advantages of using Rstudio \n",
    "1. RStudio is designed to make it easy to write scripts. As soon as you create a new script, the windows within your RStudio session adjust automatically so you can see both your script and the results in your console when you run your syntax.\n",
    "2. RStudio makes it convenient to view and interact with the objects stored in your environment. RStudio has a “Environment” window available.\n",
    "3. RStudio makes it easy to set your working directory and access files on your computer. With RStudio, you can navigate to folders on your computer in the “Files” window,view any files you have in that folder, and set that folder as the working directory.\n",
    "4. RStudio makes graphics much more accessible for a casual user. You can easily click back and forth between plots, change the sizes of your plot without rerunning the code, and export or copy plots to include in other documents."
   ]
  },
  {
   "cell_type": "markdown",
   "id": "c562312d",
   "metadata": {},
   "source": [
    "### Difference between and R and Rstudio\n",
    "1. R is a programming language used for statistical computing while RStudio uses the R language to develop statistical programs\n",
    "2. In R, you can write a program and run the code independently of any other computer program. RStudio however, must be used alongside R in order to properly function.\n",
    "3. RStudio allows users to develop and edit programs in R by supporting a large number of statistical packages, higher quality graphics, and the ability to manage your workspace.\n",
    "4. R may be used without RStudio, but RStudio may not be used without R."
   ]
  },
  {
   "cell_type": "markdown",
   "id": "d840874e",
   "metadata": {},
   "source": [
    "**Note:** Although RStudio has ample for features to support R, I'm using jupyter notebook for markdowns. But it is always preferred to run your codes in RStudio"
   ]
  }
 ],
 "metadata": {
  "kernelspec": {
   "display_name": "R",
   "language": "R",
   "name": "ir"
  },
  "language_info": {
   "codemirror_mode": "r",
   "file_extension": ".r",
   "mimetype": "text/x-r-source",
   "name": "R",
   "pygments_lexer": "r",
   "version": "3.6.1"
  }
 },
 "nbformat": 4,
 "nbformat_minor": 5
}
