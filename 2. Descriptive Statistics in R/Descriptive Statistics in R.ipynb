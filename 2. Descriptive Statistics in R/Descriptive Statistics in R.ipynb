{
 "cells": [
  {
   "cell_type": "markdown",
   "id": "eb477126",
   "metadata": {},
   "source": [
    "# Descriptive Statistics in R"
   ]
  },
  {
   "cell_type": "markdown",
   "id": "752271d9",
   "metadata": {},
   "source": [
    "#### Central Tendency:\n",
    "Central tendency tells about how the group of data is clustered around the centre value of the distribution. Central tendency performs the following measures:\n",
    "* Arithmetic Mean\n",
    "* Geometric Mean\n",
    "* Harmonic Mean\n",
    "* Median\n",
    "* Mode"
   ]
  },
  {
   "cell_type": "markdown",
   "id": "09b7bd76",
   "metadata": {},
   "source": [
    "### Arithmetic Mean\n",
    "The arithmetic mean of give set of numbers is calculated using `mean()` function in R"
   ]
  },
  {
   "cell_type": "code",
   "execution_count": 1,
   "id": "03a5c779",
   "metadata": {},
   "outputs": [
    {
     "data": {
      "text/html": [
       "21.5"
      ],
      "text/latex": [
       "21.5"
      ],
      "text/markdown": [
       "21.5"
      ],
      "text/plain": [
       "[1] 21.5"
      ]
     },
     "metadata": {},
     "output_type": "display_data"
    }
   ],
   "source": [
    "#Example\n",
    "x=c(3, 7, 5, 13, 20, 23, 39, 23, 40, 23, 14, 12, 56, 23)\n",
    "mean(x)"
   ]
  },
  {
   "cell_type": "markdown",
   "id": "75c51bb7",
   "metadata": {},
   "source": [
    "### Geometric Mean\n",
    "We use `prod()` and `length()` function to find the geometric mean for given set of numbers."
   ]
  },
  {
   "cell_type": "code",
   "execution_count": 2,
   "id": "3ec9beff",
   "metadata": {},
   "outputs": [
    {
     "data": {
      "text/html": [
       "16.5133589523369"
      ],
      "text/latex": [
       "16.5133589523369"
      ],
      "text/markdown": [
       "16.5133589523369"
      ],
      "text/plain": [
       "[1] 16.51336"
      ]
     },
     "metadata": {},
     "output_type": "display_data"
    }
   ],
   "source": [
    "#Example\n",
    "x=c(3, 7, 5, 13, 20, 23, 39, 23, 40, 23, 14, 12, 56, 23)\n",
    "prod(x)^(1/length(x))\n",
    "#prod() takes product of all the terms\n",
    "#length() finds length of the vector"
   ]
  },
  {
   "cell_type": "markdown",
   "id": "29e1b6b1",
   "metadata": {},
   "source": [
    "### Harmonic Mean\n",
    "Since harmonic mean is reciprocal of the arithmetic mean of reciprocals of the given set of values we use mean() function for computing it as follows:"
   ]
  },
  {
   "cell_type": "code",
   "execution_count": 3,
   "id": "700285bc",
   "metadata": {},
   "outputs": [
    {
     "data": {
      "text/html": [
       "2.18978102189781"
      ],
      "text/latex": [
       "2.18978102189781"
      ],
      "text/markdown": [
       "2.18978102189781"
      ],
      "text/plain": [
       "[1] 2.189781"
      ]
     },
     "metadata": {},
     "output_type": "display_data"
    }
   ],
   "source": [
    "#Example\n",
    "x=c(1, 2, 3, 4, 5)\n",
    "y=1/x #inverse of the vector\n",
    "1/mean(y) #hormonic mean"
   ]
  },
  {
   "cell_type": "code",
   "execution_count": 4,
   "id": "f77f0b8e",
   "metadata": {},
   "outputs": [
    {
     "data": {
      "text/html": [
       "2.18978102189781"
      ],
      "text/latex": [
       "2.18978102189781"
      ],
      "text/markdown": [
       "2.18978102189781"
      ],
      "text/plain": [
       "[1] 2.189781"
      ]
     },
     "metadata": {},
     "output_type": "display_data"
    }
   ],
   "source": [
    "#another way\n",
    "1/mean(1/x)"
   ]
  },
  {
   "cell_type": "markdown",
   "id": "1264fb2d",
   "metadata": {},
   "source": [
    "### Median\n",
    "The median of give set of numbers is calculated using `median()` function in R"
   ]
  },
  {
   "cell_type": "code",
   "execution_count": 5,
   "id": "05661082",
   "metadata": {},
   "outputs": [
    {
     "data": {
      "text/html": [
       "3"
      ],
      "text/latex": [
       "3"
      ],
      "text/markdown": [
       "3"
      ],
      "text/plain": [
       "[1] 3"
      ]
     },
     "metadata": {},
     "output_type": "display_data"
    }
   ],
   "source": [
    "#odd amount of numbers\n",
    "x=c(1, 2, 3, 4, 5)\n",
    "median(x)"
   ]
  },
  {
   "cell_type": "code",
   "execution_count": 6,
   "id": "cd090094",
   "metadata": {},
   "outputs": [
    {
     "data": {
      "text/html": [
       "3.5"
      ],
      "text/latex": [
       "3.5"
      ],
      "text/markdown": [
       "3.5"
      ],
      "text/plain": [
       "[1] 3.5"
      ]
     },
     "metadata": {},
     "output_type": "display_data"
    }
   ],
   "source": [
    "#even amount of numbers\n",
    "y=c(1, 2, 3, 4, 5, 6)\n",
    "median(y)"
   ]
  },
  {
   "cell_type": "markdown",
   "id": "db536ad3",
   "metadata": {},
   "source": [
    "### Frequency Table\n",
    "We use `table()` function to create a frequency table for a given set of observations."
   ]
  },
  {
   "cell_type": "code",
   "execution_count": 7,
   "id": "2ac1e887",
   "metadata": {},
   "outputs": [
    {
     "data": {
      "text/plain": [
       "x\n",
       "1 2 3 \n",
       "2 3 5 "
      ]
     },
     "metadata": {},
     "output_type": "display_data"
    }
   ],
   "source": [
    "#Example\n",
    "x=c(1, 1, 2, 2, 2, 3, 3, 3, 3, 3)\n",
    "table(x)\n",
    "#gives numbers and their frequencies"
   ]
  },
  {
   "cell_type": "code",
   "execution_count": 8,
   "id": "a6b3ab44",
   "metadata": {},
   "outputs": [
    {
     "data": {
      "text/plain": [
       "y\n",
       "a b c \n",
       "2 3 1 "
      ]
     },
     "metadata": {},
     "output_type": "display_data"
    }
   ],
   "source": [
    "y=c(\"a\", \"a\", \"b\", \"b\", \"b\", \"c\")\n",
    "table(y)\n",
    "#gives number of times each alphabet is repeated"
   ]
  },
  {
   "cell_type": "markdown",
   "id": "15348acb",
   "metadata": {},
   "source": [
    "#### Use of `names()`\n",
    "`names()` function is used to get or set the name of an Object. This function takes object i.e. vector, matrix or data frame as argument along with the value that is to be assigned as name to the object. The length of the value vector passed must be exactly equal to the length of the object to be named."
   ]
  },
  {
   "cell_type": "code",
   "execution_count": 9,
   "id": "b97a2a6e",
   "metadata": {},
   "outputs": [
    {
     "data": {
      "text/html": [
       "<dl class=dl-horizontal>\n",
       "\t<dt>x</dt>\n",
       "\t\t<dd>1</dd>\n",
       "\t<dt>y</dt>\n",
       "\t\t<dd>2</dd>\n",
       "\t<dt>z</dt>\n",
       "\t\t<dd>3</dd>\n",
       "</dl>\n"
      ],
      "text/latex": [
       "\\begin{description*}\n",
       "\\item[x] 1\n",
       "\\item[y] 2\n",
       "\\item[z] 3\n",
       "\\end{description*}\n"
      ],
      "text/markdown": [
       "x\n",
       ":   1y\n",
       ":   2z\n",
       ":   3\n",
       "\n"
      ],
      "text/plain": [
       "x y z \n",
       "1 2 3 "
      ]
     },
     "metadata": {},
     "output_type": "display_data"
    }
   ],
   "source": [
    "#for example\n",
    "x=c(1,2,3)\n",
    "names(x)=c('x','y','z') #assigns names to the numbers from the vector\n",
    "x"
   ]
  },
  {
   "cell_type": "markdown",
   "id": "32c1a4ab",
   "metadata": {},
   "source": [
    "### Mode\n",
    "The mode of a given set of values is the value that is repeated most in the set. There can exist multiple mode values. We use frequency table i.e. `table(), names()` and `max()` function to compute mode of given set of observation."
   ]
  },
  {
   "cell_type": "code",
   "execution_count": 10,
   "id": "56348718",
   "metadata": {},
   "outputs": [
    {
     "data": {
      "text/html": [
       "'3'"
      ],
      "text/latex": [
       "'3'"
      ],
      "text/markdown": [
       "'3'"
      ],
      "text/plain": [
       "[1] \"3\""
      ]
     },
     "metadata": {},
     "output_type": "display_data"
    }
   ],
   "source": [
    "#Example\n",
    "#Single Mode\n",
    "x=c(1,1,2,2,2,3,3,3,3)\n",
    "y=table(x) #Creating frequncy table\n",
    "m=names(y)[which(y==max(y))]\n",
    "#from frequncy table give the name corresponding to value y which is maximum in the frequncy table\n",
    "m"
   ]
  },
  {
   "cell_type": "code",
   "execution_count": 11,
   "id": "01704599",
   "metadata": {},
   "outputs": [
    {
     "data": {
      "text/html": [
       "<ol class=list-inline>\n",
       "\t<li>'2'</li>\n",
       "\t<li>'3'</li>\n",
       "</ol>\n"
      ],
      "text/latex": [
       "\\begin{enumerate*}\n",
       "\\item '2'\n",
       "\\item '3'\n",
       "\\end{enumerate*}\n"
      ],
      "text/markdown": [
       "1. '2'\n",
       "2. '3'\n",
       "\n",
       "\n"
      ],
      "text/plain": [
       "[1] \"2\" \"3\""
      ]
     },
     "metadata": {},
     "output_type": "display_data"
    }
   ],
   "source": [
    "#Double Mode\n",
    "x=c(1,1,2,2,2,3,3,3)\n",
    "y=table(x)\n",
    "m=names(y)[which(y == max(y))]\n",
    "m"
   ]
  },
  {
   "cell_type": "markdown",
   "id": "d2af4172",
   "metadata": {},
   "source": [
    "#### Use of Covariance and Correlation\n",
    "Covariance and Correlation are used to measure relationships between two random variables. Both of these terms measure linear dependency between a pair of random variables or bivariate data."
   ]
  },
  {
   "cell_type": "markdown",
   "id": "a710215b",
   "metadata": {},
   "source": [
    "### Covariance in R\n",
    "We use `cov()` function to measure the covariance between given set of vectors. Syntax:\n",
    "`cov(x, y, method)` where,\n",
    "x and y represents the data vectors\n",
    "method defines the type of method to be used to compute covariance. Default is \"pearson\"."
   ]
  },
  {
   "cell_type": "code",
   "execution_count": 12,
   "id": "d272f15b",
   "metadata": {},
   "outputs": [
    {
     "data": {
      "text/html": [
       "25"
      ],
      "text/latex": [
       "25"
      ],
      "text/markdown": [
       "25"
      ],
      "text/plain": [
       "[1] 25"
      ]
     },
     "metadata": {},
     "output_type": "display_data"
    }
   ],
   "source": [
    "#For Example:\n",
    "x=c(1,2,3,4,5)\n",
    "y=c(10,20,30,40,50)\n",
    "cov(x,y)\n",
    "#By defaulr 'pearson'"
   ]
  },
  {
   "cell_type": "code",
   "execution_count": 13,
   "id": "077d7c95",
   "metadata": {},
   "outputs": [
    {
     "data": {
      "text/html": [
       "25"
      ],
      "text/latex": [
       "25"
      ],
      "text/markdown": [
       "25"
      ],
      "text/plain": [
       "[1] 25"
      ]
     },
     "metadata": {},
     "output_type": "display_data"
    }
   ],
   "source": [
    "cov(x, y, method = \"pearson\")"
   ]
  },
  {
   "cell_type": "code",
   "execution_count": 14,
   "id": "c43d7b4a",
   "metadata": {},
   "outputs": [
    {
     "data": {
      "text/html": [
       "20"
      ],
      "text/latex": [
       "20"
      ],
      "text/markdown": [
       "20"
      ],
      "text/plain": [
       "[1] 20"
      ]
     },
     "metadata": {},
     "output_type": "display_data"
    }
   ],
   "source": [
    "cov(x, y, method = \"kendall\")"
   ]
  },
  {
   "cell_type": "code",
   "execution_count": 15,
   "id": "25547a28",
   "metadata": {},
   "outputs": [
    {
     "data": {
      "text/html": [
       "2.5"
      ],
      "text/latex": [
       "2.5"
      ],
      "text/markdown": [
       "2.5"
      ],
      "text/plain": [
       "[1] 2.5"
      ]
     },
     "metadata": {},
     "output_type": "display_data"
    }
   ],
   "source": [
    "cov(x, y, method = \"spearman\")"
   ]
  },
  {
   "cell_type": "markdown",
   "id": "4e583cc5",
   "metadata": {},
   "source": [
    "### Correlation in R\n",
    "We use `cor()` function to measure the correlation between given set of vectors. Syntax:\n",
    "`cor(x, y, method)` where,\n",
    "x and y represents the data vectors\n",
    "method defines the type of method to be used to compute covariance. Default is \"pearson\"."
   ]
  },
  {
   "cell_type": "code",
   "execution_count": 16,
   "id": "78ebff11",
   "metadata": {},
   "outputs": [
    {
     "data": {
      "text/html": [
       "0.993399267798783"
      ],
      "text/latex": [
       "0.993399267798783"
      ],
      "text/markdown": [
       "0.993399267798783"
      ],
      "text/plain": [
       "[1] 0.9933993"
      ]
     },
     "metadata": {},
     "output_type": "display_data"
    }
   ],
   "source": [
    "#For Example:\n",
    "x=c(1,2,3)\n",
    "y=c(1,4,6)\n",
    "cor(x, y)"
   ]
  },
  {
   "cell_type": "code",
   "execution_count": 17,
   "id": "7d19d991",
   "metadata": {},
   "outputs": [
    {
     "data": {
      "text/html": [
       "0.993399267798783"
      ],
      "text/latex": [
       "0.993399267798783"
      ],
      "text/markdown": [
       "0.993399267798783"
      ],
      "text/plain": [
       "[1] 0.9933993"
      ]
     },
     "metadata": {},
     "output_type": "display_data"
    }
   ],
   "source": [
    "cor(x, y, method = \"pearson\")"
   ]
  },
  {
   "cell_type": "code",
   "execution_count": 18,
   "id": "44a092fe",
   "metadata": {},
   "outputs": [
    {
     "data": {
      "text/html": [
       "1"
      ],
      "text/latex": [
       "1"
      ],
      "text/markdown": [
       "1"
      ],
      "text/plain": [
       "[1] 1"
      ]
     },
     "metadata": {},
     "output_type": "display_data"
    }
   ],
   "source": [
    "cor(x, y, method = \"kendall\")"
   ]
  },
  {
   "cell_type": "code",
   "execution_count": 19,
   "id": "637b4ce3",
   "metadata": {},
   "outputs": [
    {
     "data": {
      "text/html": [
       "1"
      ],
      "text/latex": [
       "1"
      ],
      "text/markdown": [
       "1"
      ],
      "text/plain": [
       "[1] 1"
      ]
     },
     "metadata": {},
     "output_type": "display_data"
    }
   ],
   "source": [
    "cor(x, y, method = \"spearman\")"
   ]
  },
  {
   "cell_type": "markdown",
   "id": "2fe19a98",
   "metadata": {},
   "source": [
    "The End"
   ]
  }
 ],
 "metadata": {
  "kernelspec": {
   "display_name": "R",
   "language": "R",
   "name": "ir"
  },
  "language_info": {
   "codemirror_mode": "r",
   "file_extension": ".r",
   "mimetype": "text/x-r-source",
   "name": "R",
   "pygments_lexer": "r",
   "version": "3.6.1"
  }
 },
 "nbformat": 4,
 "nbformat_minor": 5
}
