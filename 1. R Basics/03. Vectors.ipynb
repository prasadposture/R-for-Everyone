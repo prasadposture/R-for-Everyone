{
 "cells": [
  {
   "cell_type": "markdown",
   "id": "c719e27a",
   "metadata": {},
   "source": [
    "# Vectors\n",
    "Vectors have a structure and a type. There are two type of vector viz., **atomic\n",
    "vectors** and **lists**."
   ]
  },
  {
   "cell_type": "markdown",
   "id": "b01e8a57",
   "metadata": {},
   "source": [
    "### Atomic Vector\n",
    "An atomic vector in R is a vector which holds data of single data types. The\n",
    "basic atomic vector are of type character, numeric, integer, logical.  \n",
    "**Notation:** By vector we mean atomic vector."
   ]
  },
  {
   "cell_type": "markdown",
   "id": "6a74aadf",
   "metadata": {},
   "source": [
    "### Defining a vector\n",
    "**For understanding the various methods used for defining a vector we will take an example of a vector x with values 1,2,3,4,5:**"
   ]
  },
  {
   "cell_type": "markdown",
   "id": "579a6c0f",
   "metadata": {},
   "source": [
    "Method1:By using a:c where a and c are intengers, the increment is taken as 1 by dedault."
   ]
  },
  {
   "cell_type": "code",
   "execution_count": 1,
   "id": "37c31f32",
   "metadata": {},
   "outputs": [
    {
     "data": {
      "text/html": [
       "<ol class=list-inline>\n",
       "\t<li>1</li>\n",
       "\t<li>2</li>\n",
       "\t<li>3</li>\n",
       "\t<li>4</li>\n",
       "\t<li>5</li>\n",
       "</ol>\n"
      ],
      "text/latex": [
       "\\begin{enumerate*}\n",
       "\\item 1\n",
       "\\item 2\n",
       "\\item 3\n",
       "\\item 4\n",
       "\\item 5\n",
       "\\end{enumerate*}\n"
      ],
      "text/markdown": [
       "1. 1\n",
       "2. 2\n",
       "3. 3\n",
       "4. 4\n",
       "5. 5\n",
       "\n",
       "\n"
      ],
      "text/plain": [
       "[1] 1 2 3 4 5"
      ]
     },
     "metadata": {},
     "output_type": "display_data"
    }
   ],
   "source": [
    "x=1:5\n",
    "x"
   ]
  },
  {
   "cell_type": "markdown",
   "id": "7d3fe8cc",
   "metadata": {},
   "source": [
    "Method2: When you want to create vector with more than one element, you should use c()\n",
    "function which means to combine the elements into a vector."
   ]
  },
  {
   "cell_type": "code",
   "execution_count": 2,
   "id": "f58b2dc1",
   "metadata": {},
   "outputs": [
    {
     "data": {
      "text/html": [
       "<ol class=list-inline>\n",
       "\t<li>1</li>\n",
       "\t<li>2</li>\n",
       "\t<li>3</li>\n",
       "\t<li>4</li>\n",
       "\t<li>5</li>\n",
       "</ol>\n"
      ],
      "text/latex": [
       "\\begin{enumerate*}\n",
       "\\item 1\n",
       "\\item 2\n",
       "\\item 3\n",
       "\\item 4\n",
       "\\item 5\n",
       "\\end{enumerate*}\n"
      ],
      "text/markdown": [
       "1. 1\n",
       "2. 2\n",
       "3. 3\n",
       "4. 4\n",
       "5. 5\n",
       "\n",
       "\n"
      ],
      "text/plain": [
       "[1] 1 2 3 4 5"
      ]
     },
     "metadata": {},
     "output_type": "display_data"
    }
   ],
   "source": [
    "x=c(1,2,3,4,5)\n",
    "x"
   ]
  },
  {
   "cell_type": "markdown",
   "id": "864b1045",
   "metadata": {},
   "source": [
    "The above method can be used for defininig a vector from non-numerical data types as well."
   ]
  },
  {
   "cell_type": "code",
   "execution_count": 3,
   "id": "711a4449",
   "metadata": {},
   "outputs": [
    {
     "data": {
      "text/html": [
       "<ol class=list-inline>\n",
       "\t<li>'male'</li>\n",
       "\t<li>'female'</li>\n",
       "</ol>\n"
      ],
      "text/latex": [
       "\\begin{enumerate*}\n",
       "\\item 'male'\n",
       "\\item 'female'\n",
       "\\end{enumerate*}\n"
      ],
      "text/markdown": [
       "1. 'male'\n",
       "2. 'female'\n",
       "\n",
       "\n"
      ],
      "text/plain": [
       "[1] \"male\"   \"female\""
      ]
     },
     "metadata": {},
     "output_type": "display_data"
    }
   ],
   "source": [
    "g=c(\"male\", \"female\")\n",
    "g"
   ]
  },
  {
   "cell_type": "markdown",
   "id": "d84b385f",
   "metadata": {},
   "source": [
    "Method3: Using seq() function. It takes arguements 'from,to and by' indicating from where to start where to end and what the increment should be."
   ]
  },
  {
   "cell_type": "code",
   "execution_count": 4,
   "id": "529e17c2",
   "metadata": {},
   "outputs": [
    {
     "data": {
      "text/html": [
       "<ol class=list-inline>\n",
       "\t<li>1</li>\n",
       "\t<li>2</li>\n",
       "\t<li>3</li>\n",
       "\t<li>4</li>\n",
       "\t<li>5</li>\n",
       "</ol>\n"
      ],
      "text/latex": [
       "\\begin{enumerate*}\n",
       "\\item 1\n",
       "\\item 2\n",
       "\\item 3\n",
       "\\item 4\n",
       "\\item 5\n",
       "\\end{enumerate*}\n"
      ],
      "text/markdown": [
       "1. 1\n",
       "2. 2\n",
       "3. 3\n",
       "4. 4\n",
       "5. 5\n",
       "\n",
       "\n"
      ],
      "text/plain": [
       "[1] 1 2 3 4 5"
      ]
     },
     "metadata": {},
     "output_type": "display_data"
    }
   ],
   "source": [
    "x=seq(from=1,to=5,by=1)\n",
    "x"
   ]
  },
  {
   "cell_type": "markdown",
   "id": "7de7a854",
   "metadata": {},
   "source": [
    "**Note:** If the final element specified does not belong to the sequence then it is discarded. "
   ]
  },
  {
   "cell_type": "code",
   "execution_count": 5,
   "id": "341ff584",
   "metadata": {},
   "outputs": [
    {
     "data": {
      "text/html": [
       "<ol class=list-inline>\n",
       "\t<li>3.8</li>\n",
       "\t<li>4.8</li>\n",
       "\t<li>5.8</li>\n",
       "\t<li>6.8</li>\n",
       "\t<li>7.8</li>\n",
       "\t<li>8.8</li>\n",
       "\t<li>9.8</li>\n",
       "\t<li>10.8</li>\n",
       "</ol>\n"
      ],
      "text/latex": [
       "\\begin{enumerate*}\n",
       "\\item 3.8\n",
       "\\item 4.8\n",
       "\\item 5.8\n",
       "\\item 6.8\n",
       "\\item 7.8\n",
       "\\item 8.8\n",
       "\\item 9.8\n",
       "\\item 10.8\n",
       "\\end{enumerate*}\n"
      ],
      "text/markdown": [
       "1. 3.8\n",
       "2. 4.8\n",
       "3. 5.8\n",
       "4. 6.8\n",
       "5. 7.8\n",
       "6. 8.8\n",
       "7. 9.8\n",
       "8. 10.8\n",
       "\n",
       "\n"
      ],
      "text/plain": [
       "[1]  3.8  4.8  5.8  6.8  7.8  8.8  9.8 10.8"
      ]
     },
     "metadata": {},
     "output_type": "display_data"
    }
   ],
   "source": [
    "x=seq(from=3.8,to=11.4,by=1)\n",
    "x"
   ]
  },
  {
   "cell_type": "markdown",
   "id": "c4ba7ad8",
   "metadata": {},
   "source": [
    "### Arithmetic Functions for Vectors in R"
   ]
  },
  {
   "cell_type": "code",
   "execution_count": 6,
   "id": "7cdb26e1",
   "metadata": {},
   "outputs": [],
   "source": [
    "x=c(1,2,4,5,7,9,4) #We'll used those functions on this vector"
   ]
  },
  {
   "cell_type": "markdown",
   "id": "156d912e",
   "metadata": {},
   "source": [
    "**sum(x):** Calculates the sum of all values in x"
   ]
  },
  {
   "cell_type": "code",
   "execution_count": 7,
   "id": "0bf54de3",
   "metadata": {},
   "outputs": [
    {
     "data": {
      "text/html": [
       "32"
      ],
      "text/latex": [
       "32"
      ],
      "text/markdown": [
       "32"
      ],
      "text/plain": [
       "[1] 32"
      ]
     },
     "metadata": {},
     "output_type": "display_data"
    }
   ],
   "source": [
    "sum(x)"
   ]
  },
  {
   "cell_type": "markdown",
   "id": "84777b65",
   "metadata": {},
   "source": [
    "**prod(x):** Calculates the product of all values in x"
   ]
  },
  {
   "cell_type": "code",
   "execution_count": 8,
   "id": "852ac4f9",
   "metadata": {},
   "outputs": [
    {
     "data": {
      "text/html": [
       "10080"
      ],
      "text/latex": [
       "10080"
      ],
      "text/markdown": [
       "10080"
      ],
      "text/plain": [
       "[1] 10080"
      ]
     },
     "metadata": {},
     "output_type": "display_data"
    }
   ],
   "source": [
    "prod(x)"
   ]
  },
  {
   "cell_type": "markdown",
   "id": "ec0c2d4f",
   "metadata": {},
   "source": [
    "**min(x):**Gives the minimum of all values in x"
   ]
  },
  {
   "cell_type": "code",
   "execution_count": 9,
   "id": "d465f8bc",
   "metadata": {},
   "outputs": [
    {
     "data": {
      "text/html": [
       "1"
      ],
      "text/latex": [
       "1"
      ],
      "text/markdown": [
       "1"
      ],
      "text/plain": [
       "[1] 1"
      ]
     },
     "metadata": {},
     "output_type": "display_data"
    }
   ],
   "source": [
    "min(x)"
   ]
  },
  {
   "cell_type": "markdown",
   "id": "d253923b",
   "metadata": {},
   "source": [
    "**max(x):** Gives the maximum of all values in x"
   ]
  },
  {
   "cell_type": "code",
   "execution_count": 10,
   "id": "4fa9abfa",
   "metadata": {},
   "outputs": [
    {
     "data": {
      "text/html": [
       "9"
      ],
      "text/latex": [
       "9"
      ],
      "text/markdown": [
       "9"
      ],
      "text/plain": [
       "[1] 9"
      ]
     },
     "metadata": {},
     "output_type": "display_data"
    }
   ],
   "source": [
    "max(x)"
   ]
  },
  {
   "cell_type": "markdown",
   "id": "267fa7eb",
   "metadata": {},
   "source": [
    "**cumsum(x):** Gives the cumulative sum of all values in x"
   ]
  },
  {
   "cell_type": "code",
   "execution_count": 11,
   "id": "7a093758",
   "metadata": {},
   "outputs": [
    {
     "data": {
      "text/html": [
       "<ol class=list-inline>\n",
       "\t<li>1</li>\n",
       "\t<li>3</li>\n",
       "\t<li>7</li>\n",
       "\t<li>12</li>\n",
       "\t<li>19</li>\n",
       "\t<li>28</li>\n",
       "\t<li>32</li>\n",
       "</ol>\n"
      ],
      "text/latex": [
       "\\begin{enumerate*}\n",
       "\\item 1\n",
       "\\item 3\n",
       "\\item 7\n",
       "\\item 12\n",
       "\\item 19\n",
       "\\item 28\n",
       "\\item 32\n",
       "\\end{enumerate*}\n"
      ],
      "text/markdown": [
       "1. 1\n",
       "2. 3\n",
       "3. 7\n",
       "4. 12\n",
       "5. 19\n",
       "6. 28\n",
       "7. 32\n",
       "\n",
       "\n"
      ],
      "text/plain": [
       "[1]  1  3  7 12 19 28 32"
      ]
     },
     "metadata": {},
     "output_type": "display_data"
    }
   ],
   "source": [
    "cumsum(x)"
   ]
  },
  {
   "cell_type": "markdown",
   "id": "72ccd999",
   "metadata": {},
   "source": [
    "**cumprod(x):** Gives the cumulative product of all values in x"
   ]
  },
  {
   "cell_type": "code",
   "execution_count": 12,
   "id": "c6606e6c",
   "metadata": {},
   "outputs": [
    {
     "data": {
      "text/html": [
       "<ol class=list-inline>\n",
       "\t<li>1</li>\n",
       "\t<li>2</li>\n",
       "\t<li>8</li>\n",
       "\t<li>40</li>\n",
       "\t<li>280</li>\n",
       "\t<li>2520</li>\n",
       "\t<li>10080</li>\n",
       "</ol>\n"
      ],
      "text/latex": [
       "\\begin{enumerate*}\n",
       "\\item 1\n",
       "\\item 2\n",
       "\\item 8\n",
       "\\item 40\n",
       "\\item 280\n",
       "\\item 2520\n",
       "\\item 10080\n",
       "\\end{enumerate*}\n"
      ],
      "text/markdown": [
       "1. 1\n",
       "2. 2\n",
       "3. 8\n",
       "4. 40\n",
       "5. 280\n",
       "6. 2520\n",
       "7. 10080\n",
       "\n",
       "\n"
      ],
      "text/plain": [
       "[1]     1     2     8    40   280  2520 10080"
      ]
     },
     "metadata": {},
     "output_type": "display_data"
    }
   ],
   "source": [
    "cumprod(x)"
   ]
  },
  {
   "cell_type": "markdown",
   "id": "7fad405a",
   "metadata": {},
   "source": [
    "**cummin(x):** Gives the minimum for all values in x from the start of the vector\n",
    "until the position of that value"
   ]
  },
  {
   "cell_type": "code",
   "execution_count": 13,
   "id": "393d704a",
   "metadata": {},
   "outputs": [
    {
     "data": {
      "text/html": [
       "<ol class=list-inline>\n",
       "\t<li>1</li>\n",
       "\t<li>1</li>\n",
       "\t<li>1</li>\n",
       "\t<li>1</li>\n",
       "\t<li>1</li>\n",
       "\t<li>1</li>\n",
       "\t<li>1</li>\n",
       "</ol>\n"
      ],
      "text/latex": [
       "\\begin{enumerate*}\n",
       "\\item 1\n",
       "\\item 1\n",
       "\\item 1\n",
       "\\item 1\n",
       "\\item 1\n",
       "\\item 1\n",
       "\\item 1\n",
       "\\end{enumerate*}\n"
      ],
      "text/markdown": [
       "1. 1\n",
       "2. 1\n",
       "3. 1\n",
       "4. 1\n",
       "5. 1\n",
       "6. 1\n",
       "7. 1\n",
       "\n",
       "\n"
      ],
      "text/plain": [
       "[1] 1 1 1 1 1 1 1"
      ]
     },
     "metadata": {},
     "output_type": "display_data"
    }
   ],
   "source": [
    "cummin(x)"
   ]
  },
  {
   "cell_type": "markdown",
   "id": "68e91f1c",
   "metadata": {},
   "source": [
    "**cummax(x):** Gives the maximum for all values in x from the start of the vector\n",
    "until the position of that value"
   ]
  },
  {
   "cell_type": "code",
   "execution_count": 14,
   "id": "934e28cb",
   "metadata": {},
   "outputs": [
    {
     "data": {
      "text/html": [
       "<ol class=list-inline>\n",
       "\t<li>1</li>\n",
       "\t<li>2</li>\n",
       "\t<li>4</li>\n",
       "\t<li>5</li>\n",
       "\t<li>7</li>\n",
       "\t<li>9</li>\n",
       "\t<li>9</li>\n",
       "</ol>\n"
      ],
      "text/latex": [
       "\\begin{enumerate*}\n",
       "\\item 1\n",
       "\\item 2\n",
       "\\item 4\n",
       "\\item 5\n",
       "\\item 7\n",
       "\\item 9\n",
       "\\item 9\n",
       "\\end{enumerate*}\n"
      ],
      "text/markdown": [
       "1. 1\n",
       "2. 2\n",
       "3. 4\n",
       "4. 5\n",
       "5. 7\n",
       "6. 9\n",
       "7. 9\n",
       "\n",
       "\n"
      ],
      "text/plain": [
       "[1] 1 2 4 5 7 9 9"
      ]
     },
     "metadata": {},
     "output_type": "display_data"
    }
   ],
   "source": [
    "cummax(x)"
   ]
  },
  {
   "cell_type": "markdown",
   "id": "9f38dcfe",
   "metadata": {},
   "source": [
    "**diff(x):** Gives for every value the difference between that value and the next\n",
    "value in the vector"
   ]
  },
  {
   "cell_type": "code",
   "execution_count": 15,
   "id": "a3e26dbd",
   "metadata": {},
   "outputs": [
    {
     "data": {
      "text/html": [
       "<ol class=list-inline>\n",
       "\t<li>1</li>\n",
       "\t<li>2</li>\n",
       "\t<li>1</li>\n",
       "\t<li>2</li>\n",
       "\t<li>2</li>\n",
       "\t<li>-5</li>\n",
       "</ol>\n"
      ],
      "text/latex": [
       "\\begin{enumerate*}\n",
       "\\item 1\n",
       "\\item 2\n",
       "\\item 1\n",
       "\\item 2\n",
       "\\item 2\n",
       "\\item -5\n",
       "\\end{enumerate*}\n"
      ],
      "text/markdown": [
       "1. 1\n",
       "2. 2\n",
       "3. 1\n",
       "4. 2\n",
       "5. 2\n",
       "6. -5\n",
       "\n",
       "\n"
      ],
      "text/plain": [
       "[1]  1  2  1  2  2 -5"
      ]
     },
     "metadata": {},
     "output_type": "display_data"
    }
   ],
   "source": [
    "diff(x)"
   ]
  },
  {
   "cell_type": "markdown",
   "id": "2b3861c6",
   "metadata": {},
   "source": [
    "**length(x):** Gives the number of elements present in the vector"
   ]
  },
  {
   "cell_type": "code",
   "execution_count": 16,
   "id": "9dc5fe38",
   "metadata": {},
   "outputs": [
    {
     "data": {
      "text/html": [
       "7"
      ],
      "text/latex": [
       "7"
      ],
      "text/markdown": [
       "7"
      ],
      "text/plain": [
       "[1] 7"
      ]
     },
     "metadata": {},
     "output_type": "display_data"
    }
   ],
   "source": [
    "length(x)"
   ]
  },
  {
   "cell_type": "markdown",
   "id": "28cf27ca",
   "metadata": {},
   "source": [
    "### Other Functions for Vectors in R"
   ]
  },
  {
   "cell_type": "markdown",
   "id": "26c93c09",
   "metadata": {},
   "source": [
    "**rep():**) It is used to repeat the complete vector a set number of times"
   ]
  },
  {
   "cell_type": "code",
   "execution_count": 17,
   "id": "a8cd2370",
   "metadata": {},
   "outputs": [
    {
     "data": {
      "text/html": [
       "<ol class=list-inline>\n",
       "\t<li>'Prasad'</li>\n",
       "\t<li>'Sanket'</li>\n",
       "\t<li>'Ashish'</li>\n",
       "\t<li>'Prasad'</li>\n",
       "\t<li>'Sanket'</li>\n",
       "\t<li>'Ashish'</li>\n",
       "\t<li>'Prasad'</li>\n",
       "\t<li>'Sanket'</li>\n",
       "\t<li>'Ashish'</li>\n",
       "</ol>\n"
      ],
      "text/latex": [
       "\\begin{enumerate*}\n",
       "\\item 'Prasad'\n",
       "\\item 'Sanket'\n",
       "\\item 'Ashish'\n",
       "\\item 'Prasad'\n",
       "\\item 'Sanket'\n",
       "\\item 'Ashish'\n",
       "\\item 'Prasad'\n",
       "\\item 'Sanket'\n",
       "\\item 'Ashish'\n",
       "\\end{enumerate*}\n"
      ],
      "text/markdown": [
       "1. 'Prasad'\n",
       "2. 'Sanket'\n",
       "3. 'Ashish'\n",
       "4. 'Prasad'\n",
       "5. 'Sanket'\n",
       "6. 'Ashish'\n",
       "7. 'Prasad'\n",
       "8. 'Sanket'\n",
       "9. 'Ashish'\n",
       "\n",
       "\n"
      ],
      "text/plain": [
       "[1] \"Prasad\" \"Sanket\" \"Ashish\" \"Prasad\" \"Sanket\" \"Ashish\" \"Prasad\" \"Sanket\"\n",
       "[9] \"Ashish\""
      ]
     },
     "metadata": {},
     "output_type": "display_data"
    }
   ],
   "source": [
    "#Example\n",
    "x=c(\"Prasad\",\"Sanket\",\"Ashish\")\n",
    "rep(x,times=3) #repeat x three times"
   ]
  },
  {
   "cell_type": "markdown",
   "id": "23cd1894",
   "metadata": {},
   "source": [
    "Repeating each value of x n-times:"
   ]
  },
  {
   "cell_type": "code",
   "execution_count": 18,
   "id": "8aa8ec3e",
   "metadata": {},
   "outputs": [
    {
     "data": {
      "text/html": [
       "<ol class=list-inline>\n",
       "\t<li>'Prasad'</li>\n",
       "\t<li>'Prasad'</li>\n",
       "\t<li>'Prasad'</li>\n",
       "\t<li>'Sanket'</li>\n",
       "\t<li>'Sanket'</li>\n",
       "\t<li>'Sanket'</li>\n",
       "\t<li>'Ashish'</li>\n",
       "\t<li>'Ashish'</li>\n",
       "\t<li>'Ashish'</li>\n",
       "</ol>\n"
      ],
      "text/latex": [
       "\\begin{enumerate*}\n",
       "\\item 'Prasad'\n",
       "\\item 'Prasad'\n",
       "\\item 'Prasad'\n",
       "\\item 'Sanket'\n",
       "\\item 'Sanket'\n",
       "\\item 'Sanket'\n",
       "\\item 'Ashish'\n",
       "\\item 'Ashish'\n",
       "\\item 'Ashish'\n",
       "\\end{enumerate*}\n"
      ],
      "text/markdown": [
       "1. 'Prasad'\n",
       "2. 'Prasad'\n",
       "3. 'Prasad'\n",
       "4. 'Sanket'\n",
       "5. 'Sanket'\n",
       "6. 'Sanket'\n",
       "7. 'Ashish'\n",
       "8. 'Ashish'\n",
       "9. 'Ashish'\n",
       "\n",
       "\n"
      ],
      "text/plain": [
       "[1] \"Prasad\" \"Prasad\" \"Prasad\" \"Sanket\" \"Sanket\" \"Sanket\" \"Ashish\" \"Ashish\"\n",
       "[9] \"Ashish\""
      ]
     },
     "metadata": {},
     "output_type": "display_data"
    }
   ],
   "source": [
    "#Example\n",
    "rep(x,each=3)"
   ]
  },
  {
   "cell_type": "markdown",
   "id": "26c71f4a",
   "metadata": {},
   "source": [
    "Repeating particular value of a vector specified number of times\n",
    "in R:"
   ]
  },
  {
   "cell_type": "code",
   "execution_count": 19,
   "id": "77c054e0",
   "metadata": {},
   "outputs": [
    {
     "data": {
      "text/html": [
       "<ol class=list-inline>\n",
       "\t<li>'Prasad'</li>\n",
       "\t<li>'Prasad'</li>\n",
       "\t<li>'Sanket'</li>\n",
       "\t<li>'Ashish'</li>\n",
       "\t<li>'Ashish'</li>\n",
       "\t<li>'Ashish'</li>\n",
       "</ol>\n"
      ],
      "text/latex": [
       "\\begin{enumerate*}\n",
       "\\item 'Prasad'\n",
       "\\item 'Prasad'\n",
       "\\item 'Sanket'\n",
       "\\item 'Ashish'\n",
       "\\item 'Ashish'\n",
       "\\item 'Ashish'\n",
       "\\end{enumerate*}\n"
      ],
      "text/markdown": [
       "1. 'Prasad'\n",
       "2. 'Prasad'\n",
       "3. 'Sanket'\n",
       "4. 'Ashish'\n",
       "5. 'Ashish'\n",
       "6. 'Ashish'\n",
       "\n",
       "\n"
      ],
      "text/plain": [
       "[1] \"Prasad\" \"Prasad\" \"Sanket\" \"Ashish\" \"Ashish\" \"Ashish\""
      ]
     },
     "metadata": {},
     "output_type": "display_data"
    }
   ],
   "source": [
    "#Example\n",
    "rep(x,times=c(2,1,3))#repeating first, second, third element of x twice, once and thrice respectively"
   ]
  },
  {
   "cell_type": "markdown",
   "id": "2f94ef79",
   "metadata": {},
   "source": [
    "length.out: The argument length.out is used to tell R how long you want it to be. R will\n",
    "repeat the vector until it reaches that length, even if the last repetition is incomplete."
   ]
  },
  {
   "cell_type": "code",
   "execution_count": 20,
   "id": "5a7ea2e4",
   "metadata": {},
   "outputs": [
    {
     "data": {
      "text/html": [
       "<ol class=list-inline>\n",
       "\t<li>'Prasad'</li>\n",
       "\t<li>'Sanket'</li>\n",
       "\t<li>'Ashish'</li>\n",
       "\t<li>'Prasad'</li>\n",
       "\t<li>'Sanket'</li>\n",
       "\t<li>'Ashish'</li>\n",
       "\t<li>'Prasad'</li>\n",
       "\t<li>'Sanket'</li>\n",
       "\t<li>'Ashish'</li>\n",
       "\t<li>'Prasad'</li>\n",
       "</ol>\n"
      ],
      "text/latex": [
       "\\begin{enumerate*}\n",
       "\\item 'Prasad'\n",
       "\\item 'Sanket'\n",
       "\\item 'Ashish'\n",
       "\\item 'Prasad'\n",
       "\\item 'Sanket'\n",
       "\\item 'Ashish'\n",
       "\\item 'Prasad'\n",
       "\\item 'Sanket'\n",
       "\\item 'Ashish'\n",
       "\\item 'Prasad'\n",
       "\\end{enumerate*}\n"
      ],
      "text/markdown": [
       "1. 'Prasad'\n",
       "2. 'Sanket'\n",
       "3. 'Ashish'\n",
       "4. 'Prasad'\n",
       "5. 'Sanket'\n",
       "6. 'Ashish'\n",
       "7. 'Prasad'\n",
       "8. 'Sanket'\n",
       "9. 'Ashish'\n",
       "10. 'Prasad'\n",
       "\n",
       "\n"
      ],
      "text/plain": [
       " [1] \"Prasad\" \"Sanket\" \"Ashish\" \"Prasad\" \"Sanket\" \"Ashish\" \"Prasad\" \"Sanket\"\n",
       " [9] \"Ashish\" \"Prasad\""
      ]
     },
     "metadata": {},
     "output_type": "display_data"
    }
   ],
   "source": [
    "#Example\n",
    "rep(x,length.out=10)"
   ]
  },
  {
   "cell_type": "markdown",
   "id": "bc17b837",
   "metadata": {},
   "source": [
    "**Extracting values from vector:** We can use square brackets [ ] to extract a value from that\n",
    "vector"
   ]
  },
  {
   "cell_type": "code",
   "execution_count": 21,
   "id": "d2963f74",
   "metadata": {},
   "outputs": [
    {
     "data": {
      "text/html": [
       "<ol class=list-inline>\n",
       "\t<li>10</li>\n",
       "\t<li>9</li>\n",
       "\t<li>8</li>\n",
       "\t<li>7</li>\n",
       "\t<li>6</li>\n",
       "\t<li>5</li>\n",
       "\t<li>4</li>\n",
       "\t<li>3</li>\n",
       "\t<li>2</li>\n",
       "\t<li>1</li>\n",
       "</ol>\n"
      ],
      "text/latex": [
       "\\begin{enumerate*}\n",
       "\\item 10\n",
       "\\item 9\n",
       "\\item 8\n",
       "\\item 7\n",
       "\\item 6\n",
       "\\item 5\n",
       "\\item 4\n",
       "\\item 3\n",
       "\\item 2\n",
       "\\item 1\n",
       "\\end{enumerate*}\n"
      ],
      "text/markdown": [
       "1. 10\n",
       "2. 9\n",
       "3. 8\n",
       "4. 7\n",
       "5. 6\n",
       "6. 5\n",
       "7. 4\n",
       "8. 3\n",
       "9. 2\n",
       "10. 1\n",
       "\n",
       "\n"
      ],
      "text/plain": [
       " [1] 10  9  8  7  6  5  4  3  2  1"
      ]
     },
     "metadata": {},
     "output_type": "display_data"
    }
   ],
   "source": [
    "n=10:1\n",
    "n"
   ]
  },
  {
   "cell_type": "code",
   "execution_count": 22,
   "id": "a0b93d6d",
   "metadata": {},
   "outputs": [
    {
     "data": {
      "text/html": [
       "3"
      ],
      "text/latex": [
       "3"
      ],
      "text/markdown": [
       "3"
      ],
      "text/plain": [
       "[1] 3"
      ]
     },
     "metadata": {},
     "output_type": "display_data"
    }
   ],
   "source": [
    "n[8] #gives eigth element of the n vector"
   ]
  },
  {
   "cell_type": "code",
   "execution_count": 23,
   "id": "39b6d228",
   "metadata": {},
   "outputs": [
    {
     "data": {
      "text/html": [
       "<ol class=list-inline>\n",
       "\t<li>7</li>\n",
       "\t<li>9</li>\n",
       "\t<li>3</li>\n",
       "</ol>\n"
      ],
      "text/latex": [
       "\\begin{enumerate*}\n",
       "\\item 7\n",
       "\\item 9\n",
       "\\item 3\n",
       "\\end{enumerate*}\n"
      ],
      "text/markdown": [
       "1. 7\n",
       "2. 9\n",
       "3. 3\n",
       "\n",
       "\n"
      ],
      "text/plain": [
       "[1] 7 9 3"
      ]
     },
     "metadata": {},
     "output_type": "display_data"
    }
   ],
   "source": [
    "n[c(4,2,8)] #gives fourth, second and eighth element of the n vector"
   ]
  },
  {
   "cell_type": "markdown",
   "id": "fd2a4548",
   "metadata": {},
   "source": [
    "**Dropping indices from the vector:** We can use - inside [] for droping the indices."
   ]
  },
  {
   "cell_type": "code",
   "execution_count": 24,
   "id": "168f3226",
   "metadata": {},
   "outputs": [
    {
     "data": {
      "text/html": [
       "<ol class=list-inline>\n",
       "\t<li>10</li>\n",
       "\t<li>9</li>\n",
       "\t<li>8</li>\n",
       "\t<li>7</li>\n",
       "\t<li>6</li>\n",
       "\t<li>5</li>\n",
       "\t<li>4</li>\n",
       "\t<li>2</li>\n",
       "\t<li>1</li>\n",
       "</ol>\n"
      ],
      "text/latex": [
       "\\begin{enumerate*}\n",
       "\\item 10\n",
       "\\item 9\n",
       "\\item 8\n",
       "\\item 7\n",
       "\\item 6\n",
       "\\item 5\n",
       "\\item 4\n",
       "\\item 2\n",
       "\\item 1\n",
       "\\end{enumerate*}\n"
      ],
      "text/markdown": [
       "1. 10\n",
       "2. 9\n",
       "3. 8\n",
       "4. 7\n",
       "5. 6\n",
       "6. 5\n",
       "7. 4\n",
       "8. 2\n",
       "9. 1\n",
       "\n",
       "\n"
      ],
      "text/plain": [
       "[1] 10  9  8  7  6  5  4  2  1"
      ]
     },
     "metadata": {},
     "output_type": "display_data"
    }
   ],
   "source": [
    "n[-8]#gives vector without 8th element"
   ]
  },
  {
   "cell_type": "code",
   "execution_count": 25,
   "id": "a116859b",
   "metadata": {},
   "outputs": [
    {
     "data": {
      "text/html": [
       "<ol class=list-inline>\n",
       "\t<li>10</li>\n",
       "\t<li>8</li>\n",
       "\t<li>6</li>\n",
       "\t<li>5</li>\n",
       "\t<li>4</li>\n",
       "\t<li>2</li>\n",
       "\t<li>1</li>\n",
       "</ol>\n"
      ],
      "text/latex": [
       "\\begin{enumerate*}\n",
       "\\item 10\n",
       "\\item 8\n",
       "\\item 6\n",
       "\\item 5\n",
       "\\item 4\n",
       "\\item 2\n",
       "\\item 1\n",
       "\\end{enumerate*}\n"
      ],
      "text/markdown": [
       "1. 10\n",
       "2. 8\n",
       "3. 6\n",
       "4. 5\n",
       "5. 4\n",
       "6. 2\n",
       "7. 1\n",
       "\n",
       "\n"
      ],
      "text/plain": [
       "[1] 10  8  6  5  4  2  1"
      ]
     },
     "metadata": {},
     "output_type": "display_data"
    }
   ],
   "source": [
    "n[-c(4,2,8)]#gives vector without 4rth. 2nd and 8th element"
   ]
  },
  {
   "cell_type": "markdown",
   "id": "8d730b32",
   "metadata": {},
   "source": [
    "**Changing value of variable inside vector:** We use c[(indices of element to be changed)]=new value"
   ]
  },
  {
   "cell_type": "code",
   "execution_count": 26,
   "id": "9fdd4d60",
   "metadata": {},
   "outputs": [
    {
     "data": {
      "text/html": [
       "<ol class=list-inline>\n",
       "\t<li>1</li>\n",
       "\t<li>2</li>\n",
       "\t<li>3</li>\n",
       "\t<li>4</li>\n",
       "\t<li>5</li>\n",
       "\t<li>6</li>\n",
       "\t<li>7</li>\n",
       "\t<li>8</li>\n",
       "</ol>\n"
      ],
      "text/latex": [
       "\\begin{enumerate*}\n",
       "\\item 1\n",
       "\\item 2\n",
       "\\item 3\n",
       "\\item 4\n",
       "\\item 5\n",
       "\\item 6\n",
       "\\item 7\n",
       "\\item 8\n",
       "\\end{enumerate*}\n"
      ],
      "text/markdown": [
       "1. 1\n",
       "2. 2\n",
       "3. 3\n",
       "4. 4\n",
       "5. 5\n",
       "6. 6\n",
       "7. 7\n",
       "8. 8\n",
       "\n",
       "\n"
      ],
      "text/plain": [
       "[1] 1 2 3 4 5 6 7 8"
      ]
     },
     "metadata": {},
     "output_type": "display_data"
    }
   ],
   "source": [
    "n=1:8\n",
    "n"
   ]
  },
  {
   "cell_type": "code",
   "execution_count": 27,
   "id": "ce4b1137",
   "metadata": {},
   "outputs": [
    {
     "data": {
      "text/html": [
       "<ol class=list-inline>\n",
       "\t<li>1</li>\n",
       "\t<li>8</li>\n",
       "\t<li>3</li>\n",
       "\t<li>4</li>\n",
       "\t<li>5</li>\n",
       "\t<li>6</li>\n",
       "\t<li>7</li>\n",
       "\t<li>8</li>\n",
       "</ol>\n"
      ],
      "text/latex": [
       "\\begin{enumerate*}\n",
       "\\item 1\n",
       "\\item 8\n",
       "\\item 3\n",
       "\\item 4\n",
       "\\item 5\n",
       "\\item 6\n",
       "\\item 7\n",
       "\\item 8\n",
       "\\end{enumerate*}\n"
      ],
      "text/markdown": [
       "1. 1\n",
       "2. 8\n",
       "3. 3\n",
       "4. 4\n",
       "5. 5\n",
       "6. 6\n",
       "7. 7\n",
       "8. 8\n",
       "\n",
       "\n"
      ],
      "text/plain": [
       "[1] 1 8 3 4 5 6 7 8"
      ]
     },
     "metadata": {},
     "output_type": "display_data"
    }
   ],
   "source": [
    "n[2]=8\n",
    "n"
   ]
  },
  {
   "cell_type": "code",
   "execution_count": 28,
   "id": "47ce1b96",
   "metadata": {},
   "outputs": [
    {
     "data": {
      "text/html": [
       "<ol class=list-inline>\n",
       "\t<li>0</li>\n",
       "\t<li>0</li>\n",
       "\t<li>3</li>\n",
       "\t<li>0</li>\n",
       "\t<li>5</li>\n",
       "\t<li>6</li>\n",
       "\t<li>7</li>\n",
       "\t<li>8</li>\n",
       "</ol>\n"
      ],
      "text/latex": [
       "\\begin{enumerate*}\n",
       "\\item 0\n",
       "\\item 0\n",
       "\\item 3\n",
       "\\item 0\n",
       "\\item 5\n",
       "\\item 6\n",
       "\\item 7\n",
       "\\item 8\n",
       "\\end{enumerate*}\n"
      ],
      "text/markdown": [
       "1. 0\n",
       "2. 0\n",
       "3. 3\n",
       "4. 0\n",
       "5. 5\n",
       "6. 6\n",
       "7. 7\n",
       "8. 8\n",
       "\n",
       "\n"
      ],
      "text/plain": [
       "[1] 0 0 3 0 5 6 7 8"
      ]
     },
     "metadata": {},
     "output_type": "display_data"
    }
   ],
   "source": [
    "n[c(1,2,4)]=0\n",
    "n"
   ]
  },
  {
   "cell_type": "markdown",
   "id": "0f82c351",
   "metadata": {},
   "source": [
    "**Logical Indexing:** It is used for printing the element for whom we have assigned logical values as True."
   ]
  },
  {
   "cell_type": "code",
   "execution_count": 29,
   "id": "0403cecb",
   "metadata": {},
   "outputs": [
    {
     "name": "stdout",
     "output_type": "stream",
     "text": [
      "[1] \"mon\" \"tue\" \"thu\" \"sat\" \"sun\"\n"
     ]
    }
   ],
   "source": [
    "days=c(\"mon\",\"tue\",\"wed\",\"thu\",\"fri\",\"sat\",\"sun\")\n",
    "asn=days[c(TRUE,TRUE,FALSE,TRUE,FALSE,TRUE,TRUE)]\n",
    "print(asn)"
   ]
  },
  {
   "cell_type": "code",
   "execution_count": 30,
   "id": "6c6bb656",
   "metadata": {},
   "outputs": [
    {
     "name": "stdout",
     "output_type": "stream",
     "text": [
      "[1] \"mon\" \"mon\" \"mon\"\n"
     ]
    }
   ],
   "source": [
    "days=c(\"mon\",\"tue\",\"wed\",\"thu\",\"fri\",\"sat\",\"sun\")\n",
    "asn=days[c(1,0,0,1,0,0,1)]\n",
    "print(asn)"
   ]
  },
  {
   "cell_type": "markdown",
   "id": "a4f78bc2",
   "metadata": {},
   "source": [
    "**nchar():** The nchar() function is find out how many characters are in the text including\n",
    "blank spaces."
   ]
  },
  {
   "cell_type": "code",
   "execution_count": 31,
   "id": "93a6c625",
   "metadata": {},
   "outputs": [
    {
     "data": {
      "text/html": [
       "14"
      ],
      "text/latex": [
       "14"
      ],
      "text/markdown": [
       "14"
      ],
      "text/plain": [
       "[1] 14"
      ]
     },
     "metadata": {},
     "output_type": "display_data"
    }
   ],
   "source": [
    "x=\"Prasad Posture\"\n",
    "nchar(x)"
   ]
  },
  {
   "cell_type": "code",
   "execution_count": 32,
   "id": "699a0109",
   "metadata": {},
   "outputs": [
    {
     "data": {
      "text/html": [
       "<ol class=list-inline>\n",
       "\t<li>6</li>\n",
       "\t<li>7</li>\n",
       "</ol>\n"
      ],
      "text/latex": [
       "\\begin{enumerate*}\n",
       "\\item 6\n",
       "\\item 7\n",
       "\\end{enumerate*}\n"
      ],
      "text/markdown": [
       "1. 6\n",
       "2. 7\n",
       "\n",
       "\n"
      ],
      "text/plain": [
       "[1] 6 7"
      ]
     },
     "metadata": {},
     "output_type": "display_data"
    }
   ],
   "source": [
    "x=c(\"Prasad\",\"Posture\")\n",
    "nchar(x)#gives character from individual elements"
   ]
  },
  {
   "cell_type": "markdown",
   "id": "1af7eedc",
   "metadata": {},
   "source": [
    "**head():** It is use to print elements from the left end of a vector."
   ]
  },
  {
   "cell_type": "code",
   "execution_count": 33,
   "id": "145d39dc",
   "metadata": {},
   "outputs": [
    {
     "data": {
      "text/html": [
       "<ol class=list-inline>\n",
       "\t<li>'Jai Hind'</li>\n",
       "\t<li>'A'</li>\n",
       "\t<li>'B'</li>\n",
       "\t<li>'C'</li>\n",
       "</ol>\n"
      ],
      "text/latex": [
       "\\begin{enumerate*}\n",
       "\\item 'Jai Hind'\n",
       "\\item 'A'\n",
       "\\item 'B'\n",
       "\\item 'C'\n",
       "\\end{enumerate*}\n"
      ],
      "text/markdown": [
       "1. 'Jai Hind'\n",
       "2. 'A'\n",
       "3. 'B'\n",
       "4. 'C'\n",
       "\n",
       "\n"
      ],
      "text/plain": [
       "[1] \"Jai Hind\" \"A\"        \"B\"        \"C\"       "
      ]
     },
     "metadata": {},
     "output_type": "display_data"
    }
   ],
   "source": [
    "x=c(\"Jai Hind\",\"A\",\"B\",\"C\")\n",
    "x"
   ]
  },
  {
   "cell_type": "code",
   "execution_count": 34,
   "id": "f8bea475",
   "metadata": {},
   "outputs": [
    {
     "data": {
      "text/html": [
       "<ol class=list-inline>\n",
       "\t<li>'Jai Hind'</li>\n",
       "\t<li>'A'</li>\n",
       "</ol>\n"
      ],
      "text/latex": [
       "\\begin{enumerate*}\n",
       "\\item 'Jai Hind'\n",
       "\\item 'A'\n",
       "\\end{enumerate*}\n"
      ],
      "text/markdown": [
       "1. 'Jai Hind'\n",
       "2. 'A'\n",
       "\n",
       "\n"
      ],
      "text/plain": [
       "[1] \"Jai Hind\" \"A\"       "
      ]
     },
     "metadata": {},
     "output_type": "display_data"
    }
   ],
   "source": [
    "head(x,2)#first two values of x"
   ]
  },
  {
   "cell_type": "markdown",
   "id": "24c87ba6",
   "metadata": {},
   "source": [
    "**tail():** It is use to print elements from the right end of a vector."
   ]
  },
  {
   "cell_type": "code",
   "execution_count": 35,
   "id": "b224e742",
   "metadata": {},
   "outputs": [
    {
     "data": {
      "text/html": [
       "<ol class=list-inline>\n",
       "\t<li>'B'</li>\n",
       "\t<li>'C'</li>\n",
       "</ol>\n"
      ],
      "text/latex": [
       "\\begin{enumerate*}\n",
       "\\item 'B'\n",
       "\\item 'C'\n",
       "\\end{enumerate*}\n"
      ],
      "text/markdown": [
       "1. 'B'\n",
       "2. 'C'\n",
       "\n",
       "\n"
      ],
      "text/plain": [
       "[1] \"B\" \"C\""
      ]
     },
     "metadata": {},
     "output_type": "display_data"
    }
   ],
   "source": [
    "tail(x,2)"
   ]
  },
  {
   "cell_type": "markdown",
   "id": "95788e9b",
   "metadata": {},
   "source": [
    "**sort():** It arranges a character vector in lexicographically order and numeric vector in ascending order."
   ]
  },
  {
   "cell_type": "code",
   "execution_count": 36,
   "id": "f316265f",
   "metadata": {},
   "outputs": [
    {
     "data": {
      "text/html": [
       "<ol class=list-inline>\n",
       "\t<li>'A'</li>\n",
       "\t<li>'B'</li>\n",
       "\t<li>'C'</li>\n",
       "\t<li>'Jai Hind'</li>\n",
       "</ol>\n"
      ],
      "text/latex": [
       "\\begin{enumerate*}\n",
       "\\item 'A'\n",
       "\\item 'B'\n",
       "\\item 'C'\n",
       "\\item 'Jai Hind'\n",
       "\\end{enumerate*}\n"
      ],
      "text/markdown": [
       "1. 'A'\n",
       "2. 'B'\n",
       "3. 'C'\n",
       "4. 'Jai Hind'\n",
       "\n",
       "\n"
      ],
      "text/plain": [
       "[1] \"A\"        \"B\"        \"C\"        \"Jai Hind\""
      ]
     },
     "metadata": {},
     "output_type": "display_data"
    }
   ],
   "source": [
    "sort(x)"
   ]
  },
  {
   "cell_type": "code",
   "execution_count": 37,
   "id": "98cfd3c6",
   "metadata": {},
   "outputs": [
    {
     "data": {
      "text/html": [
       "<ol class=list-inline>\n",
       "\t<li>12</li>\n",
       "\t<li>23</li>\n",
       "\t<li>32</li>\n",
       "\t<li>36</li>\n",
       "\t<li>98</li>\n",
       "\t<li>221</li>\n",
       "\t<li>534</li>\n",
       "\t<li>6453</li>\n",
       "</ol>\n"
      ],
      "text/latex": [
       "\\begin{enumerate*}\n",
       "\\item 12\n",
       "\\item 23\n",
       "\\item 32\n",
       "\\item 36\n",
       "\\item 98\n",
       "\\item 221\n",
       "\\item 534\n",
       "\\item 6453\n",
       "\\end{enumerate*}\n"
      ],
      "text/markdown": [
       "1. 12\n",
       "2. 23\n",
       "3. 32\n",
       "4. 36\n",
       "5. 98\n",
       "6. 221\n",
       "7. 534\n",
       "8. 6453\n",
       "\n",
       "\n"
      ],
      "text/plain": [
       "[1]   12   23   32   36   98  221  534 6453"
      ]
     },
     "metadata": {},
     "output_type": "display_data"
    }
   ],
   "source": [
    "y=c(23,534,12,36,32,98,6453,221)\n",
    "sort(y)"
   ]
  },
  {
   "cell_type": "markdown",
   "id": "a066f9fa",
   "metadata": {},
   "source": [
    "## List\n",
    "A list is an R-object which can contain many different types of elements\n",
    "inside it like vectors, functions and even another list inside it."
   ]
  },
  {
   "cell_type": "code",
   "execution_count": 38,
   "id": "3dc2eeb2",
   "metadata": {},
   "outputs": [
    {
     "data": {
      "text/html": [
       "<ol>\n",
       "\t<li><ol class=list-inline>\n",
       "\t<li>2</li>\n",
       "\t<li>5</li>\n",
       "\t<li>3</li>\n",
       "</ol>\n",
       "</li>\n",
       "\t<li>21</li>\n",
       "\t<li>3.14</li>\n",
       "\t<li><pre class=language-r><code>.Primitive(\"sin\")</code></pre></li>\n",
       "</ol>\n"
      ],
      "text/latex": [
       "\\begin{enumerate}\n",
       "\\item \\begin{enumerate*}\n",
       "\\item 2\n",
       "\\item 5\n",
       "\\item 3\n",
       "\\end{enumerate*}\n",
       "\n",
       "\\item 21\n",
       "\\item 3.14\n",
       "\\item \\begin{minted}{r}\n",
       ".Primitive(\"sin\")\n",
       "\\end{minted}\n",
       "\\end{enumerate}\n"
      ],
      "text/markdown": [
       "1. 1. 2\n",
       "2. 5\n",
       "3. 3\n",
       "\n",
       "\n",
       "\n",
       "2. 21\n",
       "3. 3.14\n",
       "4. ```r\n",
       ".Primitive(\"sin\")\n",
       "```\n",
       "\n",
       "\n"
      ],
      "text/plain": [
       "[[1]]\n",
       "[1] 2 5 3\n",
       "\n",
       "[[2]]\n",
       "[1] 21\n",
       "\n",
       "[[3]]\n",
       "[1] 3.14\n",
       "\n",
       "[[4]]\n",
       "function (x)  .Primitive(\"sin\")\n"
      ]
     },
     "metadata": {},
     "output_type": "display_data"
    }
   ],
   "source": [
    "#Example\n",
    "L1=list(c(2,5,3),21,3.14,sin)\n",
    "L1"
   ]
  },
  {
   "cell_type": "markdown",
   "id": "1eb59f4d",
   "metadata": {},
   "source": [
    "The End"
   ]
  }
 ],
 "metadata": {
  "kernelspec": {
   "display_name": "R",
   "language": "R",
   "name": "ir"
  },
  "language_info": {
   "codemirror_mode": "r",
   "file_extension": ".r",
   "mimetype": "text/x-r-source",
   "name": "R",
   "pygments_lexer": "r",
   "version": "3.6.1"
  }
 },
 "nbformat": 4,
 "nbformat_minor": 5
}
