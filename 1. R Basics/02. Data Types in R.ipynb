{
 "cells": [
  {
   "cell_type": "markdown",
   "id": "4b4e56f0",
   "metadata": {},
   "source": [
    "# Data Types in R"
   ]
  },
  {
   "cell_type": "markdown",
   "id": "5161d87b",
   "metadata": {},
   "source": [
    "**Note:** Before starting this section important slogans in R that we must know is:  \n",
    "1. Everything that exists is an object.\n",
    "2. Everything that happens is a function call."
   ]
  },
  {
   "cell_type": "markdown",
   "id": "fe03527a",
   "metadata": {},
   "source": [
    "**Basic data types in R**  \n",
    "R has five basic data types, viz., character, numeric(real or decimal), integer,\n",
    "logical, complex.  \n",
    "**Note:** These data types are also known as classes."
   ]
  },
  {
   "cell_type": "markdown",
   "id": "69856a8c",
   "metadata": {},
   "source": [
    "**Different functions in R that provides features of vectors and objects**  \n",
    "class(), typeof(), length(), attributes(), mode(), storage.mode()."
   ]
  },
  {
   "cell_type": "markdown",
   "id": "60014a11",
   "metadata": {},
   "source": [
    "## Numerical Class:\n",
    "Decimal values are called numerics in R. It is the default computational data type. If we assign a decimal value to a variable x as follows, x will be of numeric type.  \n",
    "Example:"
   ]
  },
  {
   "cell_type": "code",
   "execution_count": 1,
   "id": "c6b362ab",
   "metadata": {},
   "outputs": [
    {
     "data": {
      "text/html": [
       "10.5"
      ],
      "text/latex": [
       "10.5"
      ],
      "text/markdown": [
       "10.5"
      ],
      "text/plain": [
       "[1] 10.5"
      ]
     },
     "metadata": {},
     "output_type": "display_data"
    }
   ],
   "source": [
    "x=10.5 #assign a decimal value\n",
    "x #print the value of x"
   ]
  },
  {
   "cell_type": "code",
   "execution_count": 2,
   "id": "a19558cf",
   "metadata": {},
   "outputs": [
    {
     "data": {
      "text/html": [
       "'numeric'"
      ],
      "text/latex": [
       "'numeric'"
      ],
      "text/markdown": [
       "'numeric'"
      ],
      "text/plain": [
       "[1] \"numeric\""
      ]
     },
     "metadata": {},
     "output_type": "display_data"
    }
   ],
   "source": [
    "class(x) #print the name of x"
   ]
  },
  {
   "cell_type": "markdown",
   "id": "0eda86e7",
   "metadata": {},
   "source": [
    "Furthermore, even if we assign an integer to a variable k, it is still being saved as a numeric\n",
    "value."
   ]
  },
  {
   "cell_type": "code",
   "execution_count": 3,
   "id": "a6ece80c",
   "metadata": {},
   "outputs": [
    {
     "data": {
      "text/html": [
       "'numeric'"
      ],
      "text/latex": [
       "'numeric'"
      ],
      "text/markdown": [
       "'numeric'"
      ],
      "text/plain": [
       "[1] \"numeric\""
      ]
     },
     "metadata": {},
     "output_type": "display_data"
    }
   ],
   "source": [
    "k=1 #assign value\n",
    "class(k) #print the class name"
   ]
  },
  {
   "cell_type": "markdown",
   "id": "07af2a77",
   "metadata": {},
   "source": [
    "The fact that k is not an integer can be confirmed with the is.integer function. We will\n",
    "discuss how to create an integer in our next tutorial on the integer type. "
   ]
  },
  {
   "cell_type": "code",
   "execution_count": 4,
   "id": "182b547b",
   "metadata": {},
   "outputs": [
    {
     "data": {
      "text/html": [
       "FALSE"
      ],
      "text/latex": [
       "FALSE"
      ],
      "text/markdown": [
       "FALSE"
      ],
      "text/plain": [
       "[1] FALSE"
      ]
     },
     "metadata": {},
     "output_type": "display_data"
    }
   ],
   "source": [
    "is.integer(k)"
   ]
  },
  {
   "cell_type": "markdown",
   "id": "7f3f3693",
   "metadata": {},
   "source": [
    "## Integer Class: \n",
    "In order to create an integer variable in R, we invoke the integer function as shown\n",
    "in example below:"
   ]
  },
  {
   "cell_type": "code",
   "execution_count": 5,
   "id": "30300853",
   "metadata": {},
   "outputs": [
    {
     "data": {
      "text/html": [
       "3"
      ],
      "text/latex": [
       "3"
      ],
      "text/markdown": [
       "3"
      ],
      "text/plain": [
       "[1] 3"
      ]
     },
     "metadata": {},
     "output_type": "display_data"
    }
   ],
   "source": [
    "y=as.integer(3)\n",
    "y #print the value of y"
   ]
  },
  {
   "cell_type": "code",
   "execution_count": 6,
   "id": "cdd7a5ca",
   "metadata": {},
   "outputs": [
    {
     "data": {
      "text/html": [
       "'integer'"
      ],
      "text/latex": [
       "'integer'"
      ],
      "text/markdown": [
       "'integer'"
      ],
      "text/plain": [
       "[1] \"integer\""
      ]
     },
     "metadata": {},
     "output_type": "display_data"
    }
   ],
   "source": [
    "class(y) #print the class name of y"
   ]
  },
  {
   "cell_type": "code",
   "execution_count": 7,
   "id": "e92a2d93",
   "metadata": {},
   "outputs": [
    {
     "data": {
      "text/html": [
       "TRUE"
      ],
      "text/latex": [
       "TRUE"
      ],
      "text/markdown": [
       "TRUE"
      ],
      "text/plain": [
       "[1] TRUE"
      ]
     },
     "metadata": {},
     "output_type": "display_data"
    }
   ],
   "source": [
    "is.integer(y) #is y an integer?"
   ]
  },
  {
   "cell_type": "markdown",
   "id": "01340e12",
   "metadata": {},
   "source": [
    "**We can also declare an integer by appending an L suffix**"
   ]
  },
  {
   "cell_type": "code",
   "execution_count": 8,
   "id": "85e6c132",
   "metadata": {},
   "outputs": [
    {
     "data": {
      "text/html": [
       "TRUE"
      ],
      "text/latex": [
       "TRUE"
      ],
      "text/markdown": [
       "TRUE"
      ],
      "text/plain": [
       "[1] TRUE"
      ]
     },
     "metadata": {},
     "output_type": "display_data"
    }
   ],
   "source": [
    "y=4L\n",
    "is.integer(y)"
   ]
  },
  {
   "cell_type": "markdown",
   "id": "c7d1ecb2",
   "metadata": {},
   "source": [
    "**Coercing a numeric value into an integer in R**  \n",
    "We can coerce a numeric value into an integer with the as.integer function."
   ]
  },
  {
   "cell_type": "code",
   "execution_count": 9,
   "id": "e6d2e162",
   "metadata": {},
   "outputs": [
    {
     "data": {
      "text/html": [
       "3"
      ],
      "text/latex": [
       "3"
      ],
      "text/markdown": [
       "3"
      ],
      "text/plain": [
       "[1] 3"
      ]
     },
     "metadata": {},
     "output_type": "display_data"
    }
   ],
   "source": [
    "#Example:\n",
    "as.integer(3.14)"
   ]
  },
  {
   "cell_type": "markdown",
   "id": "faa0a2b5",
   "metadata": {},
   "source": [
    "**Parsing a string for decimal values in R**  \n",
    "We can parse a string for decimal values with the as.integer function."
   ]
  },
  {
   "cell_type": "code",
   "execution_count": 10,
   "id": "25c6d3ce",
   "metadata": {},
   "outputs": [
    {
     "data": {
      "text/html": [
       "5"
      ],
      "text/latex": [
       "5"
      ],
      "text/markdown": [
       "5"
      ],
      "text/plain": [
       "[1] 5"
      ]
     },
     "metadata": {},
     "output_type": "display_data"
    }
   ],
   "source": [
    "#Example:\n",
    " as.integer(\"5.27\")"
   ]
  },
  {
   "cell_type": "markdown",
   "id": "a28ab9bf",
   "metadata": {},
   "source": [
    "## Complex Class:\n",
    "A complex value in R is defined via the pure imaginary value i"
   ]
  },
  {
   "cell_type": "code",
   "execution_count": 11,
   "id": "d488ce85",
   "metadata": {},
   "outputs": [
    {
     "data": {
      "text/html": [
       "1+2i"
      ],
      "text/latex": [
       "1+2i"
      ],
      "text/markdown": [
       "1+2i"
      ],
      "text/plain": [
       "[1] 1+2i"
      ]
     },
     "metadata": {},
     "output_type": "display_data"
    }
   ],
   "source": [
    "z=1+2i #create a complex number\n",
    "z #print the value of z"
   ]
  },
  {
   "cell_type": "code",
   "execution_count": 12,
   "id": "aaef43d7",
   "metadata": {},
   "outputs": [
    {
     "data": {
      "text/html": [
       "'complex'"
      ],
      "text/latex": [
       "'complex'"
      ],
      "text/markdown": [
       "'complex'"
      ],
      "text/plain": [
       "[1] \"complex\""
      ]
     },
     "metadata": {},
     "output_type": "display_data"
    }
   ],
   "source": [
    "class(z) #class name of z"
   ]
  },
  {
   "cell_type": "markdown",
   "id": "8870236b",
   "metadata": {},
   "source": [
    "## Logical Class:\n",
    "A logical value is created via comparison between variables. Standard logical operations are “&” (and), “|” (or), and “!” (negation)."
   ]
  },
  {
   "cell_type": "code",
   "execution_count": 13,
   "id": "62b2a018",
   "metadata": {},
   "outputs": [],
   "source": [
    "#assigning logical values\n",
    "u = TRUE\n",
    "v = FALSE"
   ]
  },
  {
   "cell_type": "code",
   "execution_count": 14,
   "id": "74c5d1bf",
   "metadata": {},
   "outputs": [
    {
     "data": {
      "text/html": [
       "FALSE"
      ],
      "text/latex": [
       "FALSE"
      ],
      "text/markdown": [
       "FALSE"
      ],
      "text/plain": [
       "[1] FALSE"
      ]
     },
     "metadata": {},
     "output_type": "display_data"
    }
   ],
   "source": [
    "u & v #u and v"
   ]
  },
  {
   "cell_type": "code",
   "execution_count": 15,
   "id": "f4026fb0",
   "metadata": {},
   "outputs": [
    {
     "data": {
      "text/html": [
       "TRUE"
      ],
      "text/latex": [
       "TRUE"
      ],
      "text/markdown": [
       "TRUE"
      ],
      "text/plain": [
       "[1] TRUE"
      ]
     },
     "metadata": {},
     "output_type": "display_data"
    }
   ],
   "source": [
    "u | v #u or v"
   ]
  },
  {
   "cell_type": "code",
   "execution_count": 16,
   "id": "246477db",
   "metadata": {},
   "outputs": [
    {
     "data": {
      "text/html": [
       "FALSE"
      ],
      "text/latex": [
       "FALSE"
      ],
      "text/markdown": [
       "FALSE"
      ],
      "text/plain": [
       "[1] FALSE"
      ]
     },
     "metadata": {},
     "output_type": "display_data"
    }
   ],
   "source": [
    "! u #negation of u"
   ]
  },
  {
   "cell_type": "code",
   "execution_count": 17,
   "id": "e22e08c0",
   "metadata": {},
   "outputs": [
    {
     "data": {
      "text/html": [
       "FALSE"
      ],
      "text/latex": [
       "FALSE"
      ],
      "text/markdown": [
       "FALSE"
      ],
      "text/plain": [
       "[1] FALSE"
      ]
     },
     "metadata": {},
     "output_type": "display_data"
    }
   ],
   "source": [
    "#Example with other operator\n",
    "x=1\n",
    "y=2\n",
    "z=x>y #is x larger than y?\n",
    "z  #value of z"
   ]
  },
  {
   "cell_type": "code",
   "execution_count": 18,
   "id": "c5816a2e",
   "metadata": {},
   "outputs": [
    {
     "data": {
      "text/html": [
       "'logical'"
      ],
      "text/latex": [
       "'logical'"
      ],
      "text/markdown": [
       "'logical'"
      ],
      "text/plain": [
       "[1] \"logical\""
      ]
     },
     "metadata": {},
     "output_type": "display_data"
    }
   ],
   "source": [
    "class(z) #class name of z"
   ]
  },
  {
   "cell_type": "markdown",
   "id": "ea0ad2f3",
   "metadata": {},
   "source": [
    "## Character Class:\n",
    "A character object is used to represent string values in R. We convert objects into\n",
    "character values with the as.character() function"
   ]
  },
  {
   "cell_type": "code",
   "execution_count": 19,
   "id": "d65eb8f0",
   "metadata": {},
   "outputs": [
    {
     "data": {
      "text/html": [
       "'3.14'"
      ],
      "text/latex": [
       "'3.14'"
      ],
      "text/markdown": [
       "'3.14'"
      ],
      "text/plain": [
       "[1] \"3.14\""
      ]
     },
     "metadata": {},
     "output_type": "display_data"
    }
   ],
   "source": [
    "#Example\n",
    "x=as.character(3.14) #turning number into character\n",
    "x"
   ]
  },
  {
   "cell_type": "code",
   "execution_count": 20,
   "id": "1aeedc8a",
   "metadata": {},
   "outputs": [
    {
     "data": {
      "text/html": [
       "'character'"
      ],
      "text/latex": [
       "'character'"
      ],
      "text/markdown": [
       "'character'"
      ],
      "text/plain": [
       "[1] \"character\""
      ]
     },
     "metadata": {},
     "output_type": "display_data"
    }
   ],
   "source": [
    "class(x) #checking the class"
   ]
  },
  {
   "cell_type": "markdown",
   "id": "ad3a6a48",
   "metadata": {},
   "source": [
    "### paste()\n",
    "Two character values can be concatenated with the paste function."
   ]
  },
  {
   "cell_type": "code",
   "execution_count": 21,
   "id": "5c6629a6",
   "metadata": {},
   "outputs": [
    {
     "data": {
      "text/html": [
       "'Prasad Posture'"
      ],
      "text/latex": [
       "'Prasad Posture'"
      ],
      "text/markdown": [
       "'Prasad Posture'"
      ],
      "text/plain": [
       "[1] \"Prasad Posture\""
      ]
     },
     "metadata": {},
     "output_type": "display_data"
    }
   ],
   "source": [
    "#Example:\n",
    "n=\"Prasad\"\n",
    "m=\"Posture\"\n",
    "paste(n,m)"
   ]
  },
  {
   "cell_type": "markdown",
   "id": "05db17d6",
   "metadata": {},
   "source": [
    "### substr()\n",
    "We apply the substr() function to extract a substring"
   ]
  },
  {
   "cell_type": "code",
   "execution_count": 22,
   "id": "0962886b",
   "metadata": {},
   "outputs": [
    {
     "data": {
      "text/html": [
       "'ry has a l'"
      ],
      "text/latex": [
       "'ry has a l'"
      ],
      "text/markdown": [
       "'ry has a l'"
      ],
      "text/plain": [
       "[1] \"ry has a l\""
      ]
     },
     "metadata": {},
     "output_type": "display_data"
    }
   ],
   "source": [
    "#Example\n",
    "str=\"Mary has a little lamb.\" #main string\n",
    "substr(str, start=3, stop=12) #extracting the substring"
   ]
  },
  {
   "cell_type": "markdown",
   "id": "fc92f697",
   "metadata": {},
   "source": [
    "### sub()\n",
    "We apply the sub() function to replace the first occurrence of the word.  \n",
    "**syntax:** sub(word want to replace, word that is going to replace, original string)"
   ]
  },
  {
   "cell_type": "code",
   "execution_count": 23,
   "id": "646b83c4",
   "metadata": {},
   "outputs": [
    {
     "data": {
      "text/html": [
       "'Mary has a big lamb.'"
      ],
      "text/latex": [
       "'Mary has a big lamb.'"
      ],
      "text/markdown": [
       "'Mary has a big lamb.'"
      ],
      "text/plain": [
       "[1] \"Mary has a big lamb.\""
      ]
     },
     "metadata": {},
     "output_type": "display_data"
    }
   ],
   "source": [
    "str=\"Mary has a little lamb.\" #main string\n",
    "sub(\"little\", \"big\", str) #"
   ]
  },
  {
   "cell_type": "markdown",
   "id": "3058612c",
   "metadata": {},
   "source": [
    "**Remark: It is often more convenient to create a readable string with the sprintf function,\n",
    "which has a C language syntax.**"
   ]
  },
  {
   "cell_type": "code",
   "execution_count": 24,
   "id": "866c6d5d",
   "metadata": {},
   "outputs": [
    {
     "data": {
      "text/html": [
       "'Prasad has 100 dollars'"
      ],
      "text/latex": [
       "'Prasad has 100 dollars'"
      ],
      "text/markdown": [
       "'Prasad has 100 dollars'"
      ],
      "text/plain": [
       "[1] \"Prasad has 100 dollars\""
      ]
     },
     "metadata": {},
     "output_type": "display_data"
    }
   ],
   "source": [
    "#Example:\n",
    "sprintf(\"%s has %d dollars\", \"Prasad\", 100)"
   ]
  },
  {
   "cell_type": "code",
   "execution_count": 25,
   "id": "dd78db4a",
   "metadata": {},
   "outputs": [
    {
     "data": {
      "text/html": [
       "'MJ dances really good'"
      ],
      "text/latex": [
       "'MJ dances really good'"
      ],
      "text/markdown": [
       "'MJ dances really good'"
      ],
      "text/plain": [
       "[1] \"MJ dances really good\""
      ]
     },
     "metadata": {},
     "output_type": "display_data"
    }
   ],
   "source": [
    "#Example\n",
    "sprintf(\"%s dances really good\",\"MJ\")"
   ]
  },
  {
   "cell_type": "markdown",
   "id": "7437da31",
   "metadata": {},
   "source": [
    "The End"
   ]
  }
 ],
 "metadata": {
  "kernelspec": {
   "display_name": "R",
   "language": "R",
   "name": "ir"
  },
  "language_info": {
   "codemirror_mode": "r",
   "file_extension": ".r",
   "mimetype": "text/x-r-source",
   "name": "R",
   "pygments_lexer": "r",
   "version": "3.6.1"
  }
 },
 "nbformat": 4,
 "nbformat_minor": 5
}
