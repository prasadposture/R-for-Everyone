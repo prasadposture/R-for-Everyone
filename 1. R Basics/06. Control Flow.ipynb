{
 "cells": [
  {
   "cell_type": "markdown",
   "id": "e6815863",
   "metadata": {},
   "source": [
    "# Control Flow"
   ]
  },
  {
   "cell_type": "markdown",
   "id": "dc542e9c",
   "metadata": {},
   "source": [
    "### `if-else` statement in R\n",
    "The basic syntax for creating an if. . .else statement in R is <br>\n",
    "\n",
    "`if(boolean-expression) {\n",
    "    statement(s) will execute if the boolean expression is true.\n",
    "} else {\n",
    "    statement(s) will execute if the boolean expression is false.\n",
    "}` <br>\n",
    "If the Boolean expression evaluates to be true, then the if block of code will be executed,\n",
    "otherwise else block of code will be executed."
   ]
  },
  {
   "cell_type": "code",
   "execution_count": 3,
   "id": "4ad392b7",
   "metadata": {},
   "outputs": [
    {
     "name": "stdout",
     "output_type": "stream",
     "text": [
      "[1] \"Positive\"\n"
     ]
    }
   ],
   "source": [
    "#Example\n",
    "x=1\n",
    "if(x > 0){\n",
    "    print('Positive')\n",
    "}else{\n",
    "    print('Not positive')\n",
    "}"
   ]
  },
  {
   "cell_type": "markdown",
   "id": "e2f11248",
   "metadata": {},
   "source": [
    "R labels the value with [1] to signify that this is the first element of the vector.\n",
    "This number is called the index of that value."
   ]
  },
  {
   "cell_type": "markdown",
   "id": "32069173",
   "metadata": {},
   "source": [
    "### Nested `if-else` statement in R\n",
    "The basic syntax for creating an nested if-else or if...else if...else statement in R is<br>\n",
    "`if(boolean-expression 1) { \n",
    "    Executes when the boolean expression 1 is true.\n",
    "} else if( boolean-expression 2){\n",
    "    Executes when the boolean expression 2 is true.\n",
    "} else if( boolean-expression 3) {\n",
    "    Executes when the boolean expression 3 is true.\n",
    "} else {\n",
    "    Executes when none of the above condition is true.\n",
    "}`\n"
   ]
  },
  {
   "cell_type": "code",
   "execution_count": 4,
   "id": "41e24b45",
   "metadata": {},
   "outputs": [
    {
     "name": "stdout",
     "output_type": "stream",
     "text": [
      "[1] \"Zero\"\n"
     ]
    }
   ],
   "source": [
    "#Example\n",
    "x=0\n",
    "if(x > 0){\n",
    "    print('Positive')\n",
    "}else if(x<0){\n",
    "    print('Negative')\n",
    "}else{\n",
    "    print('Zero')\n",
    "}"
   ]
  },
  {
   "cell_type": "markdown",
   "id": "edf9e670",
   "metadata": {},
   "source": [
    "### `repeat` loop in R\n",
    "The basic syntax for creating a repeat loop in R is  \n",
    "`repeat {\n",
    "    commands\n",
    "    if(condition) {\n",
    "        break\n",
    "}\n",
    "}`  \n",
    "The Repeat loop executes the same code again and again until a stop condition is met."
   ]
  },
  {
   "cell_type": "code",
   "execution_count": 5,
   "id": "f9957b88",
   "metadata": {},
   "outputs": [
    {
     "name": "stdout",
     "output_type": "stream",
     "text": [
      "[1] \"Jai Hind\"\n",
      "[1] \"Jai Hind\"\n"
     ]
    }
   ],
   "source": [
    "#Example\n",
    "v=c('Jai Hind')\n",
    "cnt=1\n",
    "repeat {\n",
    "    print(v)\n",
    "    cnt=cnt+1\n",
    "    if(cnt>=3) {\n",
    "        break\n",
    "    }\n",
    "}"
   ]
  },
  {
   "cell_type": "markdown",
   "id": "e2a16253",
   "metadata": {},
   "source": [
    "### `while` loop in R\n",
    "The basic syntax for creating a while loop in R is  \n",
    "`while(test-expression) {\n",
    "    statements \n",
    "}`  \n",
    "The While loop executes the same code again and again until a stop condition is met."
   ]
  },
  {
   "cell_type": "code",
   "execution_count": 6,
   "id": "ddaac1f5",
   "metadata": {},
   "outputs": [
    {
     "name": "stdout",
     "output_type": "stream",
     "text": [
      "[1] \"Jai Hind\"\n",
      "[1] \"Jai Hind\"\n"
     ]
    }
   ],
   "source": [
    "#Example\n",
    "v=c('Jai Hind')\n",
    "cnt=2\n",
    "while(cnt<4){\n",
    "    print(v)\n",
    "    cnt=cnt+1\n",
    "}"
   ]
  },
  {
   "cell_type": "markdown",
   "id": "ac3cfab7",
   "metadata": {},
   "source": [
    "### `for` loop in R\n",
    "The basic syntax for creating a for loop statement in R is  \n",
    "`for (value in vector) {\n",
    "    statements\n",
    "}`  \n",
    "A For loop is a repetition control structure that allows you to efficiently write a loop that\n",
    "needs to execute a specific number of times."
   ]
  },
  {
   "cell_type": "code",
   "execution_count": 7,
   "id": "e9bd2af0",
   "metadata": {},
   "outputs": [
    {
     "name": "stdout",
     "output_type": "stream",
     "text": [
      "[1] \"A\"\n",
      "[1] \"B\"\n",
      "[1] \"C\"\n",
      "[1] \"D\"\n",
      "[1] \"E\"\n"
     ]
    }
   ],
   "source": [
    "#Example\n",
    "v=LETTERS[1:5]\n",
    "for(i in v){\n",
    "    print(i)\n",
    "}"
   ]
  },
  {
   "cell_type": "markdown",
   "id": "aa3534e1",
   "metadata": {},
   "source": [
    "### Nested `for` loop in R\n",
    "The basic of nested for loop is give by,  \n",
    "`for(variable in sequence){\n",
    "    for (variable in sequence){\n",
    "        expression (expression statements can be a single statement of R or group of statements)\n",
    "}\n",
    "}`  \n",
    "where variable implies iteration value used in a sequence and sequence is a set of values or\n",
    "objects that could be numbers or characters."
   ]
  },
  {
   "cell_type": "code",
   "execution_count": 8,
   "id": "9cef51f3",
   "metadata": {},
   "outputs": [
    {
     "name": "stdout",
     "output_type": "stream",
     "text": [
      "[1] \"k = 1 l= 1\"\n",
      "[1] \"k = 1 l= 2\"\n",
      "[1] \"k = 2 l= 1\"\n",
      "[1] \"k = 2 l= 2\"\n",
      "[1] \"k = 3 l= 1\"\n",
      "[1] \"k = 3 l= 2\"\n"
     ]
    }
   ],
   "source": [
    "#Example\n",
    "for(k in 1:3){\n",
    "    for (l in 1:2){\n",
    "        print(paste('k =', k, 'l=',l))\n",
    "}\n",
    "}"
   ]
  },
  {
   "cell_type": "markdown",
   "id": "49dde074",
   "metadata": {},
   "source": [
    "The End"
   ]
  }
 ],
 "metadata": {
  "kernelspec": {
   "display_name": "R",
   "language": "R",
   "name": "ir"
  },
  "language_info": {
   "codemirror_mode": "r",
   "file_extension": ".r",
   "mimetype": "text/x-r-source",
   "name": "R",
   "pygments_lexer": "r",
   "version": "3.6.1"
  }
 },
 "nbformat": 4,
 "nbformat_minor": 5
}
