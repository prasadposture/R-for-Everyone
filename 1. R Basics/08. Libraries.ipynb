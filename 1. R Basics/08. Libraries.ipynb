{
 "cells": [
  {
   "cell_type": "markdown",
   "id": "b6ff02fd",
   "metadata": {},
   "source": [
    "# Libaries"
   ]
  },
  {
   "cell_type": "markdown",
   "id": "f4e471b2",
   "metadata": {},
   "source": [
    "### Library\n",
    "Library is a directory where the packages are stored. One can have multiple\n",
    "libraries on your hard drive. We can download the package from the appropriate site and it\n",
    "will be stored in your library."
   ]
  },
  {
   "cell_type": "markdown",
   "id": "cc450e9f",
   "metadata": {},
   "source": [
    "### Packages\n",
    "R packages are a collection of R functions, complied code and sample data. The\n",
    "different states of R packages are Source, Bundle, Binary and Installed. They are stored\n",
    "under a directory called “library” in the R environment. By default, R installs a set of\n",
    "packages during installation. More packages are added later, when they are needed for some\n",
    "specific purpose. When we start the R console, only the default packages are available by\n",
    "default. Other packages which are already installed have to be loaded explicitly to be used\n",
    "by the R program that is going to use them. There are two ways of installing R packages:  \n",
    "1. `install.packages(“Package Name”)` gets the packages directly from CRAN webpage and installs the package in the R environment. For example to install the package named “XML” we write install.packages(“XML”).  \n",
    "2. Go to the R Packages from browser to download the package needed. Save the package as a .zip file in a suitable location in the local system. Then type in console :`install.packages(file name with path, repos = NULL, type = “source”)`. For example: Install the package named “XML” `install.packages(“E:/XML 3.98-1.3.zip”, repos = NULL, type = “source”)`. \n"
   ]
  },
  {
   "cell_type": "markdown",
   "id": "7f161968",
   "metadata": {},
   "source": [
    "   ### `library()` function  \n",
    "   library() is the command used to load a package, and it refers to the place where the package is contained, usually a folder on your computer. "
   ]
  },
  {
   "cell_type": "markdown",
   "id": "62c62741",
   "metadata": {},
   "source": [
    "### Loading packages in library\n",
    "Before a package can be used in the code, it must be loaded to the current R\n",
    "environment. A package is loaded using the following command `library(“package Name”,\n",
    "lib.loc = “path to library”)`"
   ]
  },
  {
   "cell_type": "markdown",
   "id": "a5c49047",
   "metadata": {},
   "source": [
    "### Repository \n",
    "A repository is a place where packages are located so you can install them from it.\n",
    "Although you or your organization might have a local repository, typically they are online\n",
    "and accessible to everyone. Examples of R repository are CRAN, bioconductor, Github."
   ]
  },
  {
   "cell_type": "markdown",
   "id": "caf2d354",
   "metadata": {},
   "source": [
    "**Additional Reference :** https://www.tutorialspoint.com/r/index"
   ]
  },
  {
   "cell_type": "markdown",
   "id": "8e43e9f4",
   "metadata": {},
   "source": [
    "The End"
   ]
  }
 ],
 "metadata": {
  "kernelspec": {
   "display_name": "R",
   "language": "R",
   "name": "ir"
  },
  "language_info": {
   "codemirror_mode": "r",
   "file_extension": ".r",
   "mimetype": "text/x-r-source",
   "name": "R",
   "pygments_lexer": "r",
   "version": "3.6.1"
  }
 },
 "nbformat": 4,
 "nbformat_minor": 5
}
