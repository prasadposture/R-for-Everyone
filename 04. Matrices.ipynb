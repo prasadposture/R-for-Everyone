{
 "cells": [
  {
   "cell_type": "markdown",
   "id": "962546bb",
   "metadata": {},
   "source": [
    "# Matrices"
   ]
  },
  {
   "cell_type": "markdown",
   "id": "529f0a72",
   "metadata": {},
   "source": [
    "### Defining matrices in R:\n",
    "The basic syntax for creating a matrix in R is matrix(data, nrow, ncol, byrow, dimnames), where\n",
    "1. data is the input vector which becomes the data elements of the matrix.\n",
    "2. nrow is the number of rows to be created.\n",
    "3. ncol is the number of columns to be created.\n",
    "4. byrow is a logical clue. If TRUE then the input vector elements are arranged by row.\n",
    "5. dimname is the names assigned to the rows and columns."
   ]
  },
  {
   "cell_type": "markdown",
   "id": "2d4d0226",
   "metadata": {},
   "source": [
    "### Methods of defining matrices:"
   ]
  },
  {
   "cell_type": "markdown",
   "id": "1de41b74",
   "metadata": {},
   "source": [
    "1. Elements are arranged sequentially by row."
   ]
  },
  {
   "cell_type": "code",
   "execution_count": 20,
   "id": "a806083c",
   "metadata": {},
   "outputs": [
    {
     "name": "stdout",
     "output_type": "stream",
     "text": [
      "     [,1] [,2] [,3]\n",
      "[1,]    3    4    5\n",
      "[2,]    6    7    8\n",
      "[3,]    9   10   11\n",
      "[4,]   12   13   14\n",
      "     [,1] [,2] [,3]\n",
      "[1,]    3    4    5\n",
      "[2,]    6    7    8\n",
      "[3,]    9   10   11\n",
      "[4,]   12   13   14\n"
     ]
    }
   ],
   "source": [
    "M=matrix(c(3:14), nrow = 4, byrow = TRUE) #defining the matrix\n",
    "print(M) #printing the matrix"
   ]
  },
  {
   "cell_type": "markdown",
   "id": "8b16d59a",
   "metadata": {},
   "source": [
    "2. Elements are arranged sequentially by column."
   ]
  },
  {
   "cell_type": "code",
   "execution_count": null,
   "id": "367eea2c",
   "metadata": {},
   "outputs": [],
   "source": [
    "M=matrix(c(3:14), nrow = 4, byrow = FALSE) #defining the matrix\n",
    "print(M) #printing the matrix"
   ]
  },
  {
   "cell_type": "markdown",
   "id": "96fff87c",
   "metadata": {},
   "source": [
    "**Note:** One can use various type of numeric vectors for defining the matrices"
   ]
  },
  {
   "cell_type": "markdown",
   "id": "a4ea0843",
   "metadata": {},
   "source": [
    "### Naming rows and columns of matrix:\n",
    "We can name rows and column of a matrix using rownames() and colnames() function, then add them as a list to the dimnames."
   ]
  },
  {
   "cell_type": "code",
   "execution_count": null,
   "id": "4db06a36",
   "metadata": {},
   "outputs": [],
   "source": [
    "rownames = c(\"row1\", \"row2\", \"row3\", \"row4\")#naming rows\n",
    "colnames = c(\"col1\", \"col2\", \"col3\")#naming columns\n",
    "P=matrix(c(3:14), nrow = 4, byrow = TRUE, dimnames = list(rownames, colnames))\n",
    "print(P)"
   ]
  },
  {
   "cell_type": "markdown",
   "id": "e8a82f74",
   "metadata": {},
   "source": [
    "### Acessing the elements of the matrices:\n",
    "For an n × n matrix M, the element at the ijth can be accessed by using the\n",
    "command M[i,j] where 1 ≤ i, j ≤ n. Similarly one can access i\n",
    "th row by the command M[i, ]\n",
    "and j\n",
    "th column by M[, j]."
   ]
  },
  {
   "cell_type": "code",
   "execution_count": null,
   "id": "bd0e94ba",
   "metadata": {},
   "outputs": [],
   "source": [
    "P[4,2]#forth row and second column of matrix P"
   ]
  },
  {
   "cell_type": "code",
   "execution_count": null,
   "id": "97a2f4c3",
   "metadata": {},
   "outputs": [],
   "source": [
    "P[3,]#third row of matrix P"
   ]
  },
  {
   "cell_type": "code",
   "execution_count": null,
   "id": "1c227ee9",
   "metadata": {},
   "outputs": [],
   "source": [
    "P[,2]#second column of matrix P"
   ]
  },
  {
   "cell_type": "markdown",
   "id": "558e1a4d",
   "metadata": {},
   "source": [
    "###  Arithmetic Operations on Matrices:\n",
    "For arithmetic operations on matrices one must have the dimensions (number of\n",
    "rows and columns), same for the matrices involved in the operation. Addition, subtraction,\n",
    "multiplication and division are performed component wise (ijth element of one matrix with ijth element of another matrix) with eac to produce the output matrix.\n",
    "**Note: The multiplication of matrices metioned here is componentwise, not the regular one we do mathematically.**"
   ]
  },
  {
   "cell_type": "markdown",
   "id": "1a85ee0f",
   "metadata": {},
   "source": [
    "Creating Two Matrix for demonstration:"
   ]
  },
  {
   "cell_type": "code",
   "execution_count": null,
   "id": "53602054",
   "metadata": {},
   "outputs": [],
   "source": [
    "matrix1=matrix(c(3, 9, -1, 4, 2, 6), nrow = 2)\n",
    "print(matrix1)"
   ]
  },
  {
   "cell_type": "code",
   "execution_count": null,
   "id": "4ec8f505",
   "metadata": {},
   "outputs": [],
   "source": [
    "matrix2=matrix(c(5, 2, 3, 9, 3, 4), nrow = 2)\n",
    "print(matrix2)"
   ]
  },
  {
   "cell_type": "markdown",
   "id": "9c211da3",
   "metadata": {},
   "source": [
    "Adding two matrices:"
   ]
  },
  {
   "cell_type": "code",
   "execution_count": null,
   "id": "be13e57d",
   "metadata": {},
   "outputs": [],
   "source": [
    "result=matrix1+matrix2\n",
    "result"
   ]
  },
  {
   "cell_type": "markdown",
   "id": "7ec585c0",
   "metadata": {},
   "source": [
    "Subtracting two matrices:"
   ]
  },
  {
   "cell_type": "code",
   "execution_count": null,
   "id": "569628f9",
   "metadata": {},
   "outputs": [],
   "source": [
    "result=matrix1-matrix2\n",
    "result"
   ]
  },
  {
   "cell_type": "markdown",
   "id": "f170fe8f",
   "metadata": {},
   "source": [
    "Multiplying two matrices:"
   ]
  },
  {
   "cell_type": "code",
   "execution_count": null,
   "id": "95bf5e99",
   "metadata": {},
   "outputs": [],
   "source": [
    "result=matrix1*matrix2\n",
    "result"
   ]
  },
  {
   "cell_type": "markdown",
   "id": "9aa7ff9f",
   "metadata": {},
   "source": [
    "Dividing two matrices:"
   ]
  },
  {
   "cell_type": "code",
   "execution_count": null,
   "id": "b1ed630f",
   "metadata": {},
   "outputs": [],
   "source": [
    "result=matrix1/matrix2\n",
    "result"
   ]
  },
  {
   "cell_type": "markdown",
   "id": "fb58667a",
   "metadata": {},
   "source": [
    "**Multiplying Matrices Mathematically:**\n",
    "We can use % ∗ % operator to get mathematical product of matrices in R. "
   ]
  },
  {
   "cell_type": "code",
   "execution_count": null,
   "id": "8eae52b0",
   "metadata": {},
   "outputs": [],
   "source": [
    "M=matrix(c(1:9),nrow=3)\n",
    "M"
   ]
  },
  {
   "cell_type": "code",
   "execution_count": null,
   "id": "383ce07d",
   "metadata": {},
   "outputs": [],
   "source": [
    "N=matrix(c(3:11),nrow=3)\n",
    "N"
   ]
  },
  {
   "cell_type": "code",
   "execution_count": null,
   "id": "3b398dc3",
   "metadata": {},
   "outputs": [],
   "source": [
    "M%*%N"
   ]
  },
  {
   "cell_type": "markdown",
   "id": "fe6f885f",
   "metadata": {},
   "source": [
    "**Transpose of Matrix:** We use t() function for finding the transpose."
   ]
  },
  {
   "cell_type": "code",
   "execution_count": null,
   "id": "1739e7e4",
   "metadata": {},
   "outputs": [],
   "source": [
    "t(M) #transpose of matrix M"
   ]
  },
  {
   "cell_type": "markdown",
   "id": "f8914aef",
   "metadata": {},
   "source": [
    "**Inverse of Matrix:** We use solve() function for finding the inverse."
   ]
  },
  {
   "cell_type": "code",
   "execution_count": null,
   "id": "854fdb0f",
   "metadata": {},
   "outputs": [],
   "source": [
    "install.packages(\"pracma\") #we need to install this package in order to run the solve() function."
   ]
  },
  {
   "cell_type": "code",
   "execution_count": null,
   "id": "db324a13",
   "metadata": {},
   "outputs": [],
   "source": [
    "library(pracma) #importing the library to the workspace"
   ]
  },
  {
   "cell_type": "code",
   "execution_count": null,
   "id": "898a59b3",
   "metadata": {},
   "outputs": [],
   "source": [
    "solve(M) #since the matrix M is singular the functio is unable to find the inverse"
   ]
  },
  {
   "cell_type": "code",
   "execution_count": null,
   "id": "0e7e726c",
   "metadata": {},
   "outputs": [],
   "source": [
    "T=matrix(c(1,2,0,2,1,0,0,0,1),nrow=3)\n",
    "solve(T) #since T is non-singular you can find it's inverse"
   ]
  },
  {
   "cell_type": "markdown",
   "id": "b78991f8",
   "metadata": {},
   "source": [
    "**Eigen values and Eigen Vectors of square matrix:** In R we can find eigen value and eigen vector of a square matrix using eigen()\n",
    "function. If M is an n × n matrix then eigen(M) prints the eigen value and eigen vector of\n",
    "M.\n"
   ]
  },
  {
   "cell_type": "code",
   "execution_count": null,
   "id": "2f77f928",
   "metadata": {},
   "outputs": [],
   "source": [
    "eigen(T)"
   ]
  },
  {
   "cell_type": "markdown",
   "id": "0529870c",
   "metadata": {},
   "source": [
    "**Finding characteristic polynomial, inverse and determinant of Matrix:** In R we can find characteristic polynomial, inverse and determinant of matrix\n",
    "using polynom and pracma packages. If M is an n × n matrix then charpoly(M,info-TRUE)\n",
    "will print coefficient of characteristic polynomial, inverse and determinant of M. If we put\n",
    "info = FALSE then it will print only coefficient of characteristic polynomial."
   ]
  },
  {
   "cell_type": "code",
   "execution_count": null,
   "id": "1ca522b4",
   "metadata": {},
   "outputs": [],
   "source": [
    "charpoly(T,info=TRUE)"
   ]
  },
  {
   "cell_type": "markdown",
   "id": "7a65d59e",
   "metadata": {},
   "source": [
    "The charpoly() function gives coefficients of characteristic of polynomial, determinant of the matrix and inverse."
   ]
  },
  {
   "cell_type": "markdown",
   "id": "6c1af984",
   "metadata": {},
   "source": [
    "The End"
   ]
  }
 ],
 "metadata": {
  "kernelspec": {
   "display_name": "R",
   "language": "R",
   "name": "ir"
  },
  "language_info": {
   "codemirror_mode": "r",
   "file_extension": ".r",
   "mimetype": "text/x-r-source",
   "name": "R",
   "pygments_lexer": "r",
   "version": "3.6.1"
  }
 },
 "nbformat": 4,
 "nbformat_minor": 5
}
