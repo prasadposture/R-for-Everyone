{
 "cells": [
  {
   "cell_type": "markdown",
   "id": "962546bb",
   "metadata": {},
   "source": [
    "# Matrices"
   ]
  },
  {
   "cell_type": "markdown",
   "id": "529f0a72",
   "metadata": {},
   "source": [
    "### Defining matrices in R:\n",
    "The basic syntax for creating a matrix in R is matrix(data, nrow, ncol, byrow, dimnames), where\n",
    "1. data is the input vector which becomes the data elements of the matrix.\n",
    "2. nrow is the number of rows to be created.\n",
    "3. ncol is the number of columns to be created.\n",
    "4. byrow is a logical clue. If TRUE then the input vector elements are arranged by row.\n",
    "5. dimname is the names assigned to the rows and columns."
   ]
  },
  {
   "cell_type": "markdown",
   "id": "2d4d0226",
   "metadata": {},
   "source": [
    "### Methods of defining matrices:"
   ]
  },
  {
   "cell_type": "markdown",
   "id": "1de41b74",
   "metadata": {},
   "source": [
    "1. Elements are arranged sequentially by row."
   ]
  },
  {
   "cell_type": "code",
   "execution_count": 2,
   "id": "a806083c",
   "metadata": {},
   "outputs": [
    {
     "name": "stdout",
     "output_type": "stream",
     "text": [
      "     [,1] [,2] [,3]\n",
      "[1,]    3    4    5\n",
      "[2,]    6    7    8\n",
      "[3,]    9   10   11\n",
      "[4,]   12   13   14\n"
     ]
    }
   ],
   "source": [
    "M=matrix(c(3:14), nrow = 4, byrow = TRUE) #defining the matrix\n",
    "print(M) #printing the matrix"
   ]
  },
  {
   "cell_type": "markdown",
   "id": "8b16d59a",
   "metadata": {},
   "source": [
    "2. Elements are arranged sequentially by column."
   ]
  },
  {
   "cell_type": "code",
   "execution_count": 3,
   "id": "367eea2c",
   "metadata": {},
   "outputs": [
    {
     "name": "stdout",
     "output_type": "stream",
     "text": [
      "     [,1] [,2] [,3]\n",
      "[1,]    3    7   11\n",
      "[2,]    4    8   12\n",
      "[3,]    5    9   13\n",
      "[4,]    6   10   14\n"
     ]
    }
   ],
   "source": [
    "M=matrix(c(3:14), nrow = 4, byrow = FALSE) #defining the matrix\n",
    "print(M) #printing the matrix"
   ]
  },
  {
   "cell_type": "markdown",
   "id": "96fff87c",
   "metadata": {},
   "source": [
    "**Note:** One can use various type of numeric vectors for defining the matrices"
   ]
  },
  {
   "cell_type": "markdown",
   "id": "a4ea0843",
   "metadata": {},
   "source": [
    "### Naming rows and columns of matrix:\n",
    "We can name rows and column of a matrix using rownames() and colnames() function, then add them as a list to the dimnames."
   ]
  },
  {
   "cell_type": "code",
   "execution_count": 4,
   "id": "4db06a36",
   "metadata": {},
   "outputs": [
    {
     "name": "stdout",
     "output_type": "stream",
     "text": [
      "     col1 col2 col3\n",
      "row1    3    4    5\n",
      "row2    6    7    8\n",
      "row3    9   10   11\n",
      "row4   12   13   14\n"
     ]
    }
   ],
   "source": [
    "rownames = c(\"row1\", \"row2\", \"row3\", \"row4\")#naming rows\n",
    "colnames = c(\"col1\", \"col2\", \"col3\")#naming columns\n",
    "P=matrix(c(3:14), nrow = 4, byrow = TRUE, dimnames = list(rownames, colnames))\n",
    "print(P)"
   ]
  },
  {
   "cell_type": "markdown",
   "id": "e8a82f74",
   "metadata": {},
   "source": [
    "### Acessing the elements of the matrices:\n",
    "For an n × n matrix M, the element at the ijth can be accessed by using the\n",
    "command M[i,j] where 1 ≤ i, j ≤ n. Similarly one can access i\n",
    "th row by the command M[i, ]\n",
    "and j\n",
    "th column by M[, j]."
   ]
  },
  {
   "cell_type": "code",
   "execution_count": 10,
   "id": "bd0e94ba",
   "metadata": {},
   "outputs": [
    {
     "data": {
      "text/html": [
       "13"
      ],
      "text/latex": [
       "13"
      ],
      "text/markdown": [
       "13"
      ],
      "text/plain": [
       "[1] 13"
      ]
     },
     "metadata": {},
     "output_type": "display_data"
    }
   ],
   "source": [
    "P[4,2]#forth row and second column of matrix P"
   ]
  },
  {
   "cell_type": "code",
   "execution_count": 11,
   "id": "97a2f4c3",
   "metadata": {},
   "outputs": [
    {
     "data": {
      "text/html": [
       "<dl class=dl-horizontal>\n",
       "\t<dt>col1</dt>\n",
       "\t\t<dd>9</dd>\n",
       "\t<dt>col2</dt>\n",
       "\t\t<dd>10</dd>\n",
       "\t<dt>col3</dt>\n",
       "\t\t<dd>11</dd>\n",
       "</dl>\n"
      ],
      "text/latex": [
       "\\begin{description*}\n",
       "\\item[col1] 9\n",
       "\\item[col2] 10\n",
       "\\item[col3] 11\n",
       "\\end{description*}\n"
      ],
      "text/markdown": [
       "col1\n",
       ":   9col2\n",
       ":   10col3\n",
       ":   11\n",
       "\n"
      ],
      "text/plain": [
       "col1 col2 col3 \n",
       "   9   10   11 "
      ]
     },
     "metadata": {},
     "output_type": "display_data"
    }
   ],
   "source": [
    "P[3,]#third row of matrix P"
   ]
  },
  {
   "cell_type": "code",
   "execution_count": 12,
   "id": "1c227ee9",
   "metadata": {},
   "outputs": [
    {
     "data": {
      "text/html": [
       "<dl class=dl-horizontal>\n",
       "\t<dt>row1</dt>\n",
       "\t\t<dd>4</dd>\n",
       "\t<dt>row2</dt>\n",
       "\t\t<dd>7</dd>\n",
       "\t<dt>row3</dt>\n",
       "\t\t<dd>10</dd>\n",
       "\t<dt>row4</dt>\n",
       "\t\t<dd>13</dd>\n",
       "</dl>\n"
      ],
      "text/latex": [
       "\\begin{description*}\n",
       "\\item[row1] 4\n",
       "\\item[row2] 7\n",
       "\\item[row3] 10\n",
       "\\item[row4] 13\n",
       "\\end{description*}\n"
      ],
      "text/markdown": [
       "row1\n",
       ":   4row2\n",
       ":   7row3\n",
       ":   10row4\n",
       ":   13\n",
       "\n"
      ],
      "text/plain": [
       "row1 row2 row3 row4 \n",
       "   4    7   10   13 "
      ]
     },
     "metadata": {},
     "output_type": "display_data"
    }
   ],
   "source": [
    "P[,2]#second column of matrix P"
   ]
  },
  {
   "cell_type": "markdown",
   "id": "558e1a4d",
   "metadata": {},
   "source": [
    "###  Arithmetic Operations on Matrices:\n",
    "For arithmetic operations on matrices one must have the dimensions (number of\n",
    "rows and columns), same for the matrices involved in the operation. Addition, subtraction,\n",
    "multiplication and division are performed component wise (ijth element of one matrix with ijth element of another matrix) with eac to produce the output matrix.\n",
    "**Note: The multiplication of matrices metioned here is componentwise, not the regular one we do mathematically.**"
   ]
  },
  {
   "cell_type": "markdown",
   "id": "1a85ee0f",
   "metadata": {},
   "source": [
    "Creating Two Matrix for demonstration:"
   ]
  },
  {
   "cell_type": "code",
   "execution_count": 13,
   "id": "53602054",
   "metadata": {},
   "outputs": [
    {
     "name": "stdout",
     "output_type": "stream",
     "text": [
      "     [,1] [,2] [,3]\n",
      "[1,]    3   -1    2\n",
      "[2,]    9    4    6\n"
     ]
    }
   ],
   "source": [
    "matrix1=matrix(c(3, 9, -1, 4, 2, 6), nrow = 2)\n",
    "print(matrix1)"
   ]
  },
  {
   "cell_type": "code",
   "execution_count": 14,
   "id": "4ec8f505",
   "metadata": {},
   "outputs": [
    {
     "name": "stdout",
     "output_type": "stream",
     "text": [
      "     [,1] [,2] [,3]\n",
      "[1,]    5    0    3\n",
      "[2,]    2    9    4\n"
     ]
    }
   ],
   "source": [
    "matrix2=matrix(c(5, 2, 3, 9, 3, 4), nrow = 2)\n",
    "print(matrix2)"
   ]
  },
  {
   "cell_type": "markdown",
   "id": "9c211da3",
   "metadata": {},
   "source": [
    "Adding two matrices:"
   ]
  },
  {
   "cell_type": "code",
   "execution_count": 16,
   "id": "be13e57d",
   "metadata": {},
   "outputs": [
    {
     "data": {
      "text/html": [
       "<table>\n",
       "<tbody>\n",
       "\t<tr><td> 8</td><td>-1</td><td> 5</td></tr>\n",
       "\t<tr><td>11</td><td>13</td><td>10</td></tr>\n",
       "</tbody>\n",
       "</table>\n"
      ],
      "text/latex": [
       "\\begin{tabular}{lll}\n",
       "\t  8 & -1 &  5\\\\\n",
       "\t 11 & 13 & 10\\\\\n",
       "\\end{tabular}\n"
      ],
      "text/markdown": [
       "\n",
       "|  8 | -1 |  5 |\n",
       "| 11 | 13 | 10 |\n",
       "\n"
      ],
      "text/plain": [
       "     [,1] [,2] [,3]\n",
       "[1,]  8   -1    5  \n",
       "[2,] 11   13   10  "
      ]
     },
     "metadata": {},
     "output_type": "display_data"
    }
   ],
   "source": [
    "result=matrix1+matrix2\n",
    "result"
   ]
  },
  {
   "cell_type": "markdown",
   "id": "7ec585c0",
   "metadata": {},
   "source": [
    "Subtracting two matrices:"
   ]
  },
  {
   "cell_type": "code",
   "execution_count": 17,
   "id": "569628f9",
   "metadata": {},
   "outputs": [
    {
     "data": {
      "text/html": [
       "<table>\n",
       "<tbody>\n",
       "\t<tr><td>-2</td><td>-1</td><td>-1</td></tr>\n",
       "\t<tr><td> 7</td><td>-5</td><td> 2</td></tr>\n",
       "</tbody>\n",
       "</table>\n"
      ],
      "text/latex": [
       "\\begin{tabular}{lll}\n",
       "\t -2 & -1 & -1\\\\\n",
       "\t  7 & -5 &  2\\\\\n",
       "\\end{tabular}\n"
      ],
      "text/markdown": [
       "\n",
       "| -2 | -1 | -1 |\n",
       "|  7 | -5 |  2 |\n",
       "\n"
      ],
      "text/plain": [
       "     [,1] [,2] [,3]\n",
       "[1,] -2   -1   -1  \n",
       "[2,]  7   -5    2  "
      ]
     },
     "metadata": {},
     "output_type": "display_data"
    }
   ],
   "source": [
    "result=matrix1-matrix2\n",
    "result"
   ]
  },
  {
   "cell_type": "markdown",
   "id": "f170fe8f",
   "metadata": {},
   "source": [
    "Multiplying two matrices:"
   ]
  },
  {
   "cell_type": "code",
   "execution_count": 18,
   "id": "95bf5e99",
   "metadata": {},
   "outputs": [
    {
     "data": {
      "text/html": [
       "<table>\n",
       "<tbody>\n",
       "\t<tr><td>15</td><td> 0</td><td> 6</td></tr>\n",
       "\t<tr><td>18</td><td>36</td><td>24</td></tr>\n",
       "</tbody>\n",
       "</table>\n"
      ],
      "text/latex": [
       "\\begin{tabular}{lll}\n",
       "\t 15 &  0 &  6\\\\\n",
       "\t 18 & 36 & 24\\\\\n",
       "\\end{tabular}\n"
      ],
      "text/markdown": [
       "\n",
       "| 15 |  0 |  6 |\n",
       "| 18 | 36 | 24 |\n",
       "\n"
      ],
      "text/plain": [
       "     [,1] [,2] [,3]\n",
       "[1,] 15    0    6  \n",
       "[2,] 18   36   24  "
      ]
     },
     "metadata": {},
     "output_type": "display_data"
    }
   ],
   "source": [
    "result=matrix1*matrix2\n",
    "result"
   ]
  },
  {
   "cell_type": "markdown",
   "id": "9aa7ff9f",
   "metadata": {},
   "source": [
    "Dividing two matrices:"
   ]
  },
  {
   "cell_type": "code",
   "execution_count": 19,
   "id": "b1ed630f",
   "metadata": {},
   "outputs": [
    {
     "data": {
      "text/html": [
       "<table>\n",
       "<tbody>\n",
       "\t<tr><td>0.6      </td><td>     -Inf</td><td>0.6666667</td></tr>\n",
       "\t<tr><td>4.5      </td><td>0.4444444</td><td>1.5000000</td></tr>\n",
       "</tbody>\n",
       "</table>\n"
      ],
      "text/latex": [
       "\\begin{tabular}{lll}\n",
       "\t 0.6       &      -Inf & 0.6666667\\\\\n",
       "\t 4.5       & 0.4444444 & 1.5000000\\\\\n",
       "\\end{tabular}\n"
      ],
      "text/markdown": [
       "\n",
       "| 0.6       |      -Inf | 0.6666667 |\n",
       "| 4.5       | 0.4444444 | 1.5000000 |\n",
       "\n"
      ],
      "text/plain": [
       "     [,1] [,2]      [,3]     \n",
       "[1,] 0.6       -Inf 0.6666667\n",
       "[2,] 4.5  0.4444444 1.5000000"
      ]
     },
     "metadata": {},
     "output_type": "display_data"
    }
   ],
   "source": [
    "result=matrix1/matrix2\n",
    "result"
   ]
  },
  {
   "cell_type": "markdown",
   "id": "fb58667a",
   "metadata": {},
   "source": [
    "**Multiplying Matrices Mathematically:**\n",
    "We can use % ∗ % operator to get mathematical product of matrices in R. "
   ]
  },
  {
   "cell_type": "code",
   "execution_count": 21,
   "id": "8eae52b0",
   "metadata": {},
   "outputs": [
    {
     "data": {
      "text/html": [
       "<table>\n",
       "<tbody>\n",
       "\t<tr><td>1</td><td>4</td><td>7</td></tr>\n",
       "\t<tr><td>2</td><td>5</td><td>8</td></tr>\n",
       "\t<tr><td>3</td><td>6</td><td>9</td></tr>\n",
       "</tbody>\n",
       "</table>\n"
      ],
      "text/latex": [
       "\\begin{tabular}{lll}\n",
       "\t 1 & 4 & 7\\\\\n",
       "\t 2 & 5 & 8\\\\\n",
       "\t 3 & 6 & 9\\\\\n",
       "\\end{tabular}\n"
      ],
      "text/markdown": [
       "\n",
       "| 1 | 4 | 7 |\n",
       "| 2 | 5 | 8 |\n",
       "| 3 | 6 | 9 |\n",
       "\n"
      ],
      "text/plain": [
       "     [,1] [,2] [,3]\n",
       "[1,] 1    4    7   \n",
       "[2,] 2    5    8   \n",
       "[3,] 3    6    9   "
      ]
     },
     "metadata": {},
     "output_type": "display_data"
    }
   ],
   "source": [
    "M=matrix(c(1:9),nrow=3)\n",
    "M"
   ]
  },
  {
   "cell_type": "code",
   "execution_count": 22,
   "id": "383ce07d",
   "metadata": {},
   "outputs": [
    {
     "data": {
      "text/html": [
       "<table>\n",
       "<tbody>\n",
       "\t<tr><td>3 </td><td>6 </td><td> 9</td></tr>\n",
       "\t<tr><td>4 </td><td>7 </td><td>10</td></tr>\n",
       "\t<tr><td>5 </td><td>8 </td><td>11</td></tr>\n",
       "</tbody>\n",
       "</table>\n"
      ],
      "text/latex": [
       "\\begin{tabular}{lll}\n",
       "\t 3  & 6  &  9\\\\\n",
       "\t 4  & 7  & 10\\\\\n",
       "\t 5  & 8  & 11\\\\\n",
       "\\end{tabular}\n"
      ],
      "text/markdown": [
       "\n",
       "| 3  | 6  |  9 |\n",
       "| 4  | 7  | 10 |\n",
       "| 5  | 8  | 11 |\n",
       "\n"
      ],
      "text/plain": [
       "     [,1] [,2] [,3]\n",
       "[1,] 3    6     9  \n",
       "[2,] 4    7    10  \n",
       "[3,] 5    8    11  "
      ]
     },
     "metadata": {},
     "output_type": "display_data"
    }
   ],
   "source": [
    "N=matrix(c(3:11),nrow=3)\n",
    "N"
   ]
  },
  {
   "cell_type": "code",
   "execution_count": 23,
   "id": "3b398dc3",
   "metadata": {},
   "outputs": [
    {
     "data": {
      "text/html": [
       "<table>\n",
       "<tbody>\n",
       "\t<tr><td>54 </td><td> 90</td><td>126</td></tr>\n",
       "\t<tr><td>66 </td><td>111</td><td>156</td></tr>\n",
       "\t<tr><td>78 </td><td>132</td><td>186</td></tr>\n",
       "</tbody>\n",
       "</table>\n"
      ],
      "text/latex": [
       "\\begin{tabular}{lll}\n",
       "\t 54  &  90 & 126\\\\\n",
       "\t 66  & 111 & 156\\\\\n",
       "\t 78  & 132 & 186\\\\\n",
       "\\end{tabular}\n"
      ],
      "text/markdown": [
       "\n",
       "| 54  |  90 | 126 |\n",
       "| 66  | 111 | 156 |\n",
       "| 78  | 132 | 186 |\n",
       "\n"
      ],
      "text/plain": [
       "     [,1] [,2] [,3]\n",
       "[1,] 54    90  126 \n",
       "[2,] 66   111  156 \n",
       "[3,] 78   132  186 "
      ]
     },
     "metadata": {},
     "output_type": "display_data"
    }
   ],
   "source": [
    "M%*%N"
   ]
  },
  {
   "cell_type": "markdown",
   "id": "fe6f885f",
   "metadata": {},
   "source": [
    "**Transpose of Matrix:** We use t() function for finding the transpose."
   ]
  },
  {
   "cell_type": "code",
   "execution_count": 24,
   "id": "1739e7e4",
   "metadata": {},
   "outputs": [
    {
     "data": {
      "text/html": [
       "<table>\n",
       "<tbody>\n",
       "\t<tr><td>1</td><td>2</td><td>3</td></tr>\n",
       "\t<tr><td>4</td><td>5</td><td>6</td></tr>\n",
       "\t<tr><td>7</td><td>8</td><td>9</td></tr>\n",
       "</tbody>\n",
       "</table>\n"
      ],
      "text/latex": [
       "\\begin{tabular}{lll}\n",
       "\t 1 & 2 & 3\\\\\n",
       "\t 4 & 5 & 6\\\\\n",
       "\t 7 & 8 & 9\\\\\n",
       "\\end{tabular}\n"
      ],
      "text/markdown": [
       "\n",
       "| 1 | 2 | 3 |\n",
       "| 4 | 5 | 6 |\n",
       "| 7 | 8 | 9 |\n",
       "\n"
      ],
      "text/plain": [
       "     [,1] [,2] [,3]\n",
       "[1,] 1    2    3   \n",
       "[2,] 4    5    6   \n",
       "[3,] 7    8    9   "
      ]
     },
     "metadata": {},
     "output_type": "display_data"
    }
   ],
   "source": [
    "t(M) #transpose of matrix M"
   ]
  },
  {
   "cell_type": "markdown",
   "id": "f8914aef",
   "metadata": {},
   "source": [
    "**Inverse of Matrix:** We use solve() function for finding the inverse."
   ]
  },
  {
   "cell_type": "code",
   "execution_count": 27,
   "id": "854fdb0f",
   "metadata": {},
   "outputs": [
    {
     "name": "stdout",
     "output_type": "stream",
     "text": [
      "\n",
      "  There is a binary version available but the source version is later:\n",
      "       binary source needs_compilation\n",
      "pracma  2.3.3  2.3.8             FALSE\n",
      "\n"
     ]
    },
    {
     "name": "stderr",
     "output_type": "stream",
     "text": [
      "installing the source package 'pracma'\n",
      "\n"
     ]
    }
   ],
   "source": [
    "install.packages(\"pracma\") #we need to install this package in order to run the solve() function."
   ]
  },
  {
   "cell_type": "code",
   "execution_count": 28,
   "id": "db324a13",
   "metadata": {},
   "outputs": [],
   "source": [
    "library(pracma) #importing the library to the workspace"
   ]
  },
  {
   "cell_type": "code",
   "execution_count": 29,
   "id": "898a59b3",
   "metadata": {},
   "outputs": [
    {
     "ename": "ERROR",
     "evalue": "Error in solve.default(M): Lapack routine dgesv: system is exactly singular: U[3,3] = 0\n",
     "output_type": "error",
     "traceback": [
      "Error in solve.default(M): Lapack routine dgesv: system is exactly singular: U[3,3] = 0\nTraceback:\n",
      "1. solve(M)",
      "2. solve.default(M)"
     ]
    }
   ],
   "source": [
    "solve(M) #since the matrix M is singular the functio is unable to find the inverse"
   ]
  },
  {
   "cell_type": "code",
   "execution_count": 31,
   "id": "0e7e726c",
   "metadata": {},
   "outputs": [
    {
     "data": {
      "text/html": [
       "<table>\n",
       "<tbody>\n",
       "\t<tr><td>-0.3333333</td><td> 0.6666667</td><td>0         </td></tr>\n",
       "\t<tr><td> 0.6666667</td><td>-0.3333333</td><td>0         </td></tr>\n",
       "\t<tr><td> 0.0000000</td><td> 0.0000000</td><td>1         </td></tr>\n",
       "</tbody>\n",
       "</table>\n"
      ],
      "text/latex": [
       "\\begin{tabular}{lll}\n",
       "\t -0.3333333 &  0.6666667 & 0         \\\\\n",
       "\t  0.6666667 & -0.3333333 & 0         \\\\\n",
       "\t  0.0000000 &  0.0000000 & 1         \\\\\n",
       "\\end{tabular}\n"
      ],
      "text/markdown": [
       "\n",
       "| -0.3333333 |  0.6666667 | 0          |\n",
       "|  0.6666667 | -0.3333333 | 0          |\n",
       "|  0.0000000 |  0.0000000 | 1          |\n",
       "\n"
      ],
      "text/plain": [
       "     [,1]       [,2]       [,3]\n",
       "[1,] -0.3333333  0.6666667 0   \n",
       "[2,]  0.6666667 -0.3333333 0   \n",
       "[3,]  0.0000000  0.0000000 1   "
      ]
     },
     "metadata": {},
     "output_type": "display_data"
    }
   ],
   "source": [
    "T=matrix(c(1,2,0,2,1,0,0,0,1),nrow=3)\n",
    "solve(T) #since T is non-singular you can find it's inverse"
   ]
  },
  {
   "cell_type": "markdown",
   "id": "b78991f8",
   "metadata": {},
   "source": [
    "**Eigen values and Eigen Vectors of square matrix:** In R we can find eigen value and eigen vector of a square matrix using eigen()\n",
    "function. If M is an n × n matrix then eigen(M) prints the eigen value and eigen vector of\n",
    "M.\n"
   ]
  },
  {
   "cell_type": "code",
   "execution_count": 32,
   "id": "2f77f928",
   "metadata": {},
   "outputs": [
    {
     "data": {
      "text/plain": [
       "eigen() decomposition\n",
       "$values\n",
       "[1]  3  1 -1\n",
       "\n",
       "$vectors\n",
       "          [,1] [,2]       [,3]\n",
       "[1,] 0.7071068    0  0.7071068\n",
       "[2,] 0.7071068    0 -0.7071068\n",
       "[3,] 0.0000000    1  0.0000000\n"
      ]
     },
     "metadata": {},
     "output_type": "display_data"
    }
   ],
   "source": [
    "eigen(T)"
   ]
  },
  {
   "cell_type": "markdown",
   "id": "0529870c",
   "metadata": {},
   "source": [
    "**Finding characteristic polynomial, inverse and determinant of Matrix:** In R we can find characteristic polynomial, inverse and determinant of matrix\n",
    "using polynom and pracma packages. If M is an n × n matrix then charpoly(M,info-TRUE)\n",
    "will print coefficient of characteristic polynomial, inverse and determinant of M. If we put\n",
    "info = FALSE then it will print only coefficient of characteristic polynomial."
   ]
  },
  {
   "cell_type": "code",
   "execution_count": 34,
   "id": "1ca522b4",
   "metadata": {},
   "outputs": [
    {
     "name": "stdout",
     "output_type": "stream",
     "text": [
      "Error term: 0 \n"
     ]
    },
    {
     "data": {
      "text/html": [
       "<dl>\n",
       "\t<dt>$cp</dt>\n",
       "\t\t<dd><ol class=list-inline>\n",
       "\t<li>1</li>\n",
       "\t<li>-3</li>\n",
       "\t<li>-1</li>\n",
       "\t<li>3</li>\n",
       "</ol>\n",
       "</dd>\n",
       "\t<dt>$det</dt>\n",
       "\t\t<dd>-3</dd>\n",
       "\t<dt>$inv</dt>\n",
       "\t\t<dd><table>\n",
       "<tbody>\n",
       "\t<tr><td>-0.3333333</td><td> 0.6666667</td><td>0         </td></tr>\n",
       "\t<tr><td> 0.6666667</td><td>-0.3333333</td><td>0         </td></tr>\n",
       "\t<tr><td> 0.0000000</td><td> 0.0000000</td><td>1         </td></tr>\n",
       "</tbody>\n",
       "</table>\n",
       "</dd>\n",
       "</dl>\n"
      ],
      "text/latex": [
       "\\begin{description}\n",
       "\\item[\\$cp] \\begin{enumerate*}\n",
       "\\item 1\n",
       "\\item -3\n",
       "\\item -1\n",
       "\\item 3\n",
       "\\end{enumerate*}\n",
       "\n",
       "\\item[\\$det] -3\n",
       "\\item[\\$inv] \\begin{tabular}{lll}\n",
       "\t -0.3333333 &  0.6666667 & 0         \\\\\n",
       "\t  0.6666667 & -0.3333333 & 0         \\\\\n",
       "\t  0.0000000 &  0.0000000 & 1         \\\\\n",
       "\\end{tabular}\n",
       "\n",
       "\\end{description}\n"
      ],
      "text/markdown": [
       "$cp\n",
       ":   1. 1\n",
       "2. -3\n",
       "3. -1\n",
       "4. 3\n",
       "\n",
       "\n",
       "\n",
       "$det\n",
       ":   -3\n",
       "$inv\n",
       ":   \n",
       "| -0.3333333 |  0.6666667 | 0          |\n",
       "|  0.6666667 | -0.3333333 | 0          |\n",
       "|  0.0000000 |  0.0000000 | 1          |\n",
       "\n",
       "\n",
       "\n",
       "\n"
      ],
      "text/plain": [
       "$cp\n",
       "[1]  1 -3 -1  3\n",
       "\n",
       "$det\n",
       "[1] -3\n",
       "\n",
       "$inv\n",
       "           [,1]       [,2] [,3]\n",
       "[1,] -0.3333333  0.6666667    0\n",
       "[2,]  0.6666667 -0.3333333    0\n",
       "[3,]  0.0000000  0.0000000    1\n"
      ]
     },
     "metadata": {},
     "output_type": "display_data"
    }
   ],
   "source": [
    "charpoly(T,info=TRUE)"
   ]
  },
  {
   "cell_type": "markdown",
   "id": "7a65d59e",
   "metadata": {},
   "source": [
    "The charpoly() function gives coefficients of characteristic of polynomial, determinant of the matrix and inverse."
   ]
  },
  {
   "cell_type": "markdown",
   "id": "6c1af984",
   "metadata": {},
   "source": [
    "The End"
   ]
  }
 ],
 "metadata": {
  "kernelspec": {
   "display_name": "R",
   "language": "R",
   "name": "ir"
  },
  "language_info": {
   "codemirror_mode": "r",
   "file_extension": ".r",
   "mimetype": "text/x-r-source",
   "name": "R",
   "pygments_lexer": "r",
   "version": "3.6.1"
  }
 },
 "nbformat": 4,
 "nbformat_minor": 5
}
