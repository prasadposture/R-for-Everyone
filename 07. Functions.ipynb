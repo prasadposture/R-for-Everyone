{
 "cells": [
  {
   "cell_type": "markdown",
   "id": "812942b8",
   "metadata": {},
   "source": [
    "# Functions\n",
    "A function is a set of statements organized together to perform a specific\n",
    "task. R has a large number of in-built functions and the user can create their own functions.\n",
    "We can create user-defined functions in R. They are specific to what a user wants and once\n",
    "created they can be used like the built-in functions."
   ]
  },
  {
   "cell_type": "markdown",
   "id": "ebc61414",
   "metadata": {},
   "source": [
    "### Defining a `function` in R\n",
    "An R function is created by using the keyword function. The basic syntax of an R function definition is as follows  \n",
    "`function-name=function(arg-1, arg-2, ...){\n",
    "    Function body\n",
    "}`  \n",
    "The different parts of a function are  \n",
    "1. Function Name This is the actual name of the function. It is stored in R environment as an object with this name.\n",
    "2. Arguments An argument is a placeholder. When a function is invoked, you pass a value to the argument. A function may contain no arguments. Also arguments can have default values.\n",
    "2. Function Body The function body contains a collection of statements that defines what the function does.\n",
    "3. Return Value The return value is the actual output of a function when it is called"
   ]
  },
  {
   "cell_type": "markdown",
   "id": "2f3bb9ff",
   "metadata": {},
   "source": [
    "### User defined function\n",
    "A user defined function is specific to what a user wants and once created they can\n",
    "be used like the built-in functions."
   ]
  },
  {
   "cell_type": "code",
   "execution_count": 1,
   "id": "adaa6afc",
   "metadata": {},
   "outputs": [
    {
     "name": "stdout",
     "output_type": "stream",
     "text": [
      "[1] 10\n"
     ]
    }
   ],
   "source": [
    "#Example: a program to print sum of first n natural numbers\n",
    "f=function(n){\n",
    "    sum=0\n",
    "    for (i in 1:n){\n",
    "        sum=sum+i\n",
    "    }\n",
    "    print(sum)\n",
    "}\n",
    "#Calling the function\n",
    "f(4)"
   ]
  },
  {
   "cell_type": "code",
   "execution_count": 2,
   "id": "3fad44e2",
   "metadata": {},
   "outputs": [
    {
     "name": "stdout",
     "output_type": "stream",
     "text": [
      "[1] 1\n",
      "[1] 8\n",
      "[1] 27\n",
      "[1] 64\n",
      "[1] 125\n"
     ]
    }
   ],
   "source": [
    "#Example : a function without argument\n",
    "f=function(){\n",
    "    for (i in 1:5){\n",
    "        print(i^3)\n",
    "    }\n",
    "}\n",
    "#calling the function\n",
    "f()"
   ]
  },
  {
   "cell_type": "markdown",
   "id": "e3d5c41c",
   "metadata": {},
   "source": [
    "#### Different ways of calling function"
   ]
  },
  {
   "cell_type": "code",
   "execution_count": 3,
   "id": "11854bbe",
   "metadata": {},
   "outputs": [
    {
     "name": "stdout",
     "output_type": "stream",
     "text": [
      "[1] 54\n"
     ]
    }
   ],
   "source": [
    "#1 Calling the function by position of argument\n",
    "f=function(a,b,c){\n",
    "    result=a*b*c\n",
    "    print(result)\n",
    "}\n",
    "f(3,2,9) #calling the function"
   ]
  },
  {
   "cell_type": "code",
   "execution_count": 4,
   "id": "d96bfeba",
   "metadata": {},
   "outputs": [
    {
     "name": "stdout",
     "output_type": "stream",
     "text": [
      "[1] 66\n"
     ]
    }
   ],
   "source": [
    "#2 calling the function with argument values by names\n",
    "f=function(a,b,c){\n",
    "    result=a*b*c\n",
    "    print(result)\n",
    "}\n",
    "f(a=11,b=3,c=2) #calling the function"
   ]
  },
  {
   "cell_type": "code",
   "execution_count": 5,
   "id": "91217d50",
   "metadata": {},
   "outputs": [
    {
     "name": "stdout",
     "output_type": "stream",
     "text": [
      "[1] 45\n"
     ]
    }
   ],
   "source": [
    "#3 defining the arguments within the definition of the function itself and calling the function without any argument\n",
    "f=function(a=3, b=6){\n",
    "    result=a∗a+b∗b\n",
    "    print(result)\n",
    "}\n",
    "f()#calling the function"
   ]
  },
  {
   "cell_type": "code",
   "execution_count": 6,
   "id": "de555705",
   "metadata": {},
   "outputs": [
    {
     "name": "stdout",
     "output_type": "stream",
     "text": [
      "[1] 117\n"
     ]
    }
   ],
   "source": [
    "#4 We can call functions by supplying new values of the argument and get non default result.\n",
    "f=function(a=3, b=6){\n",
    "    result=a∗a+b∗b\n",
    "    print(result)\n",
    "}\n",
    "f(9,6)#calling the function\n",
    "#gives output for 9,6 not 3,6"
   ]
  },
  {
   "cell_type": "markdown",
   "id": "eb8a20af",
   "metadata": {},
   "source": [
    "### Recursive Function  \n",
    "A function that calls itself is called a recursive function and this technique is\n",
    "known as recursion."
   ]
  },
  {
   "cell_type": "code",
   "execution_count": 7,
   "id": "2a71de5e",
   "metadata": {},
   "outputs": [
    {
     "data": {
      "text/html": [
       "24"
      ],
      "text/latex": [
       "24"
      ],
      "text/markdown": [
       "24"
      ],
      "text/plain": [
       "[1] 24"
      ]
     },
     "metadata": {},
     "output_type": "display_data"
    },
    {
     "data": {
      "text/html": [
       "1"
      ],
      "text/latex": [
       "1"
      ],
      "text/markdown": [
       "1"
      ],
      "text/plain": [
       "[1] 1"
      ]
     },
     "metadata": {},
     "output_type": "display_data"
    }
   ],
   "source": [
    "#Recursion function to find factorial\n",
    "recursive.factorial=function(x){\n",
    "    if(x==0) return (1)\n",
    "    else return (x*recursive.factorial(x-1))\n",
    "}\n",
    "#calling the function\n",
    "recursive.factorial(4)\n",
    "recursive.factorial(0)"
   ]
  },
  {
   "cell_type": "markdown",
   "id": "50596629",
   "metadata": {},
   "source": [
    "**Global Variables :** Global variables are those variables which exists throughout the execution of a\n",
    "program. It can be changed and accessed from any part of the program."
   ]
  },
  {
   "cell_type": "markdown",
   "id": "40863cea",
   "metadata": {},
   "source": [
    "**Local Variables :** Local variables are those variables which exist only within a certain part of a program like\n",
    "a function, and is released when the function call ends."
   ]
  },
  {
   "cell_type": "code",
   "execution_count": 8,
   "id": "c8b5e5fc",
   "metadata": {},
   "outputs": [],
   "source": [
    "#Example\n",
    "outer_function=function(){\n",
    "    b=20 #local variable\n",
    "    inner_function=function(){\n",
    "        c=30 #local variable\n",
    "    }\n",
    "}\n",
    "a=10 #global variable"
   ]
  },
  {
   "cell_type": "markdown",
   "id": "ab2a7e92",
   "metadata": {},
   "source": [
    "Only `a` is global variable to all. From the perspective of `outer-func()`, `b` is a local variable.\n",
    "From the perspective of `inner-func()`, both `a` and `b` are global variables and `c` is local variable.\n",
    "The variable `c` is completely invisible to `outer-func()`."
   ]
  },
  {
   "cell_type": "markdown",
   "id": "2b2793b0",
   "metadata": {},
   "source": [
    "### R Environment\n",
    "An environment is collection of objects (functions, variables etc.) and is created\n",
    "when we first fire up the R interpreter. When we define a function, a new environment is\n",
    "created."
   ]
  },
  {
   "cell_type": "code",
   "execution_count": 9,
   "id": "832413da",
   "metadata": {},
   "outputs": [
    {
     "data": {
      "text/plain": [
       "<environment: R_GlobalEnv>"
      ]
     },
     "metadata": {},
     "output_type": "display_data"
    }
   ],
   "source": [
    "#Example\n",
    "a=2\n",
    "b=5\n",
    "f=function(x)\n",
    "x=0\n",
    "environment()"
   ]
  },
  {
   "cell_type": "code",
   "execution_count": 10,
   "id": "412366c0",
   "metadata": {},
   "outputs": [
    {
     "data": {
      "text/plain": [
       "<environment: R_GlobalEnv>"
      ]
     },
     "metadata": {},
     "output_type": "display_data"
    }
   ],
   "source": [
    ".GlobalEnv"
   ]
  },
  {
   "cell_type": "markdown",
   "id": "3f4af3ae",
   "metadata": {},
   "source": [
    "The End"
   ]
  }
 ],
 "metadata": {
  "kernelspec": {
   "display_name": "R",
   "language": "R",
   "name": "ir"
  },
  "language_info": {
   "codemirror_mode": "r",
   "file_extension": ".r",
   "mimetype": "text/x-r-source",
   "name": "R",
   "pygments_lexer": "r",
   "version": "3.6.1"
  }
 },
 "nbformat": 4,
 "nbformat_minor": 5
}
